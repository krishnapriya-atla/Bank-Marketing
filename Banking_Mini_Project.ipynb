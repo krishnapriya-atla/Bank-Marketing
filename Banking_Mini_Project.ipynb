{
  "nbformat": 4,
  "nbformat_minor": 0,
  "metadata": {
    "colab": {
      "name": "Banking Mini Project",
      "provenance": [],
      "collapsed_sections": [],
      "include_colab_link": true
    },
    "kernelspec": {
      "name": "python3",
      "display_name": "Python 3"
    },
    "accelerator": "GPU"
  },
  "cells": [
    {
      "cell_type": "markdown",
      "metadata": {
        "id": "view-in-github",
        "colab_type": "text"
      },
      "source": [
        "<a href=\"https://colab.research.google.com/github/krishnapriya-atla/Bank-Marketing/blob/main/Banking_Mini_Project.ipynb\" target=\"_parent\"><img src=\"https://colab.research.google.com/assets/colab-badge.svg\" alt=\"Open In Colab\"/></a>"
      ]
    },
    {
      "cell_type": "markdown",
      "metadata": {
        "id": "81yKC4ktA2Qm"
      },
      "source": [
        "#**Bank Marketing**"
      ]
    },
    {
      "cell_type": "markdown",
      "metadata": {
        "id": "32Hv87WWQyZz"
      },
      "source": [
        "https://archive.ics.uci.edu/ml/datasets/bank+marketing\n",
        "### **Objective** To predict that  the client has subscribed for a term deposit or not? "
      ]
    },
    {
      "cell_type": "markdown",
      "metadata": {
        "id": "k0qJju_5kiUC"
      },
      "source": [
        "##**Attribute Information**:\n",
        "####**Age** : **numerical column**- age in years <br>\n",
        "####**Job** :Job of the customer. It is a **categorical** column having values. \n",
        "* **'entrepreneur'**     \n",
        "* **'blue-collar'**\n",
        "* **'management'**\n",
        "* **'technician'**\n",
        "* **'others'**\n",
        "* **'retired'**\n",
        "* **'admin.'**\n",
        "* **'services'**\n",
        "* **'self-employed'** \n",
        "* **'unemployed'**\n",
        "* **'housemaid'**\n",
        "* **'student'**<br>\n",
        "\n",
        "####**Marital**:marital status of customer a **categorical column** having values \n",
        "* **'divorced'**     \n",
        "* **'married'**\n",
        "* **'single'**<br>\n",
        "\n",
        "#####**Note:** '**divorced**' means divorced or widowed\n",
        "####**Education**: education of customer a **categorical column** having values \n",
        "   \n",
        "* **'tertiary'**     \n",
        "* **'secondary'**\n",
        "* **'others'**\n",
        "* **'primary'**\n",
        "<br>\n",
        "\n",
        "####**Default**: **categorical** column- customer is having credit in default or not? \n",
        "* **'no'**\n",
        "* **'yes'**\n",
        "\n",
        "####**balance**: **numerical** column- how much balance left in client account\n",
        "####**Housing**: **categorical** column Is customer having housing loan or not? \n",
        "* **'no'**\n",
        "* **'yes'**\n",
        "\n",
        "####**Loan**: **categorical** column Is customer having personal loan or not? \n",
        "* **'no'**\n",
        "* **'yes'**\n",
        "\n",
        "####**Contact**: **categorical** column. Contact number for communication  \n",
        "* **'cellular'**\n",
        "* **'telephone'**\n",
        "\n",
        "####**Duration**: **numerical** column. Last contact duration of customer, time in seconds.\n",
        "\n",
        "####**Campaign**: **numerical** column. Number of contacts performed during this campaign **includes last contact also**\n",
        "####**Pdays**: **numerical** column. Number of days that passed by after the client was last contacted from a previous campaign \n",
        "#####**Note:** Pdays=0 means client was not previously contacted with us\n",
        "\n",
        "####**Previous**: **numerical** column. Number of contacts performed before this campaign and for this client (numeric)\n",
        "####**Poutcome**: **categorical** column. Outcome of the previous marketing campaign \n",
        "* **'failure'**\n",
        "* **'nonexistent'**\n",
        "* **'success'**\n",
        "\n",
        "###**Target variable**:\n",
        "####**y**: **categorical** column. we have to predict that  the client has subscribed for a term deposit or not? \n",
        "* **'yes'**\n",
        "* **'no'**\n",
        "\n"
      ]
    },
    {
      "cell_type": "markdown",
      "metadata": {
        "id": "O0j2Z3uz2JaV"
      },
      "source": [
        "###Downloading dataset into current working directory"
      ]
    },
    {
      "cell_type": "code",
      "metadata": {
        "id": "XqJ0a-ffAyH6",
        "colab": {
          "base_uri": "https://localhost:8080/"
        },
        "outputId": "c20bad46-9710-4953-fb81-e5664479b7e9"
      },
      "source": [
        "!wget https://archive.ics.uci.edu/ml/machine-learning-databases/00222/bank.zip"
      ],
      "execution_count": 1,
      "outputs": [
        {
          "output_type": "stream",
          "name": "stdout",
          "text": [
            "--2022-04-09 18:06:56--  https://archive.ics.uci.edu/ml/machine-learning-databases/00222/bank.zip\n",
            "Resolving archive.ics.uci.edu (archive.ics.uci.edu)... 128.195.10.252\n",
            "Connecting to archive.ics.uci.edu (archive.ics.uci.edu)|128.195.10.252|:443... connected.\n",
            "HTTP request sent, awaiting response... 200 OK\n",
            "Length: 579043 (565K) [application/x-httpd-php]\n",
            "Saving to: ‘bank.zip’\n",
            "\n",
            "bank.zip            100%[===================>] 565.47K  2.23MB/s    in 0.2s    \n",
            "\n",
            "2022-04-09 18:06:57 (2.23 MB/s) - ‘bank.zip’ saved [579043/579043]\n",
            "\n"
          ]
        }
      ]
    },
    {
      "cell_type": "markdown",
      "metadata": {
        "id": "uFWYy4fm2Tb3"
      },
      "source": [
        "###Unziping files "
      ]
    },
    {
      "cell_type": "code",
      "metadata": {
        "id": "6gz1Y1uYA23r",
        "colab": {
          "base_uri": "https://localhost:8080/"
        },
        "outputId": "de8ca621-6827-4524-86d3-2b1749ef3655"
      },
      "source": [
        "!unzip 'bank.zip'"
      ],
      "execution_count": 2,
      "outputs": [
        {
          "output_type": "stream",
          "name": "stdout",
          "text": [
            "Archive:  bank.zip\n",
            "  inflating: bank-full.csv           \n",
            "  inflating: bank-names.txt          \n",
            "  inflating: bank.csv                \n"
          ]
        }
      ]
    },
    {
      "cell_type": "markdown",
      "metadata": {
        "id": "cA80fhCS2Z_q"
      },
      "source": [
        "###Importing libraries to read and describe dataset"
      ]
    },
    {
      "cell_type": "code",
      "metadata": {
        "id": "3B_DlvpcA-4R"
      },
      "source": [
        "import numpy as np\n",
        "import pandas as pd\n",
        "import matplotlib.pyplot as plt\n",
        "import seaborn as sns\n"
      ],
      "execution_count": 3,
      "outputs": []
    },
    {
      "cell_type": "markdown",
      "metadata": {
        "id": "wFzmNA6o2jWW"
      },
      "source": [
        "###Reading dataset"
      ]
    },
    {
      "cell_type": "code",
      "metadata": {
        "id": "YWFM4-ANBhn5"
      },
      "source": [
        "dataset = pd.read_csv('bank-full.csv', sep=r';',\n",
        "                           header=0)"
      ],
      "execution_count": 4,
      "outputs": []
    },
    {
      "cell_type": "markdown",
      "metadata": {
        "id": "TIZrMJfv2oJD"
      },
      "source": [
        "###Info of dataset"
      ]
    },
    {
      "cell_type": "code",
      "metadata": {
        "id": "ART5lo4cD4D7",
        "colab": {
          "base_uri": "https://localhost:8080/"
        },
        "outputId": "1f6af943-b41b-4886-d4e0-7dee61a05228"
      },
      "source": [
        "print(dataset.info())"
      ],
      "execution_count": 5,
      "outputs": [
        {
          "output_type": "stream",
          "name": "stdout",
          "text": [
            "<class 'pandas.core.frame.DataFrame'>\n",
            "RangeIndex: 45211 entries, 0 to 45210\n",
            "Data columns (total 17 columns):\n",
            " #   Column     Non-Null Count  Dtype \n",
            "---  ------     --------------  ----- \n",
            " 0   age        45211 non-null  int64 \n",
            " 1   job        45211 non-null  object\n",
            " 2   marital    45211 non-null  object\n",
            " 3   education  45211 non-null  object\n",
            " 4   default    45211 non-null  object\n",
            " 5   balance    45211 non-null  int64 \n",
            " 6   housing    45211 non-null  object\n",
            " 7   loan       45211 non-null  object\n",
            " 8   contact    45211 non-null  object\n",
            " 9   day        45211 non-null  int64 \n",
            " 10  month      45211 non-null  object\n",
            " 11  duration   45211 non-null  int64 \n",
            " 12  campaign   45211 non-null  int64 \n",
            " 13  pdays      45211 non-null  int64 \n",
            " 14  previous   45211 non-null  int64 \n",
            " 15  poutcome   45211 non-null  object\n",
            " 16  y          45211 non-null  object\n",
            "dtypes: int64(7), object(10)\n",
            "memory usage: 5.9+ MB\n",
            "None\n"
          ]
        }
      ]
    },
    {
      "cell_type": "markdown",
      "metadata": {
        "id": "j_ShLcJN3Wvd"
      },
      "source": [
        "###Columns of dataset"
      ]
    },
    {
      "cell_type": "code",
      "metadata": {
        "id": "-xTkahwyD6dv",
        "colab": {
          "base_uri": "https://localhost:8080/"
        },
        "outputId": "149f299a-5c1c-4b14-d56b-0e8a012f1c15"
      },
      "source": [
        "print(dataset.columns)"
      ],
      "execution_count": 6,
      "outputs": [
        {
          "output_type": "stream",
          "name": "stdout",
          "text": [
            "Index(['age', 'job', 'marital', 'education', 'default', 'balance', 'housing',\n",
            "       'loan', 'contact', 'day', 'month', 'duration', 'campaign', 'pdays',\n",
            "       'previous', 'poutcome', 'y'],\n",
            "      dtype='object')\n"
          ]
        }
      ]
    },
    {
      "cell_type": "markdown",
      "metadata": {
        "id": "JFi6UTts3G9I"
      },
      "source": [
        "###Describing numeric data type columns"
      ]
    },
    {
      "cell_type": "code",
      "metadata": {
        "colab": {
          "base_uri": "https://localhost:8080/",
          "height": 300
        },
        "id": "NaX7eXCx2vHk",
        "outputId": "72f7d100-1a3d-4444-e664-fb0b5d1dbde2"
      },
      "source": [
        "dataset.describe()"
      ],
      "execution_count": 7,
      "outputs": [
        {
          "output_type": "execute_result",
          "data": {
            "text/plain": [
              "                age        balance           day      duration      campaign  \\\n",
              "count  45211.000000   45211.000000  45211.000000  45211.000000  45211.000000   \n",
              "mean      40.936210    1362.272058     15.806419    258.163080      2.763841   \n",
              "std       10.618762    3044.765829      8.322476    257.527812      3.098021   \n",
              "min       18.000000   -8019.000000      1.000000      0.000000      1.000000   \n",
              "25%       33.000000      72.000000      8.000000    103.000000      1.000000   \n",
              "50%       39.000000     448.000000     16.000000    180.000000      2.000000   \n",
              "75%       48.000000    1428.000000     21.000000    319.000000      3.000000   \n",
              "max       95.000000  102127.000000     31.000000   4918.000000     63.000000   \n",
              "\n",
              "              pdays      previous  \n",
              "count  45211.000000  45211.000000  \n",
              "mean      40.197828      0.580323  \n",
              "std      100.128746      2.303441  \n",
              "min       -1.000000      0.000000  \n",
              "25%       -1.000000      0.000000  \n",
              "50%       -1.000000      0.000000  \n",
              "75%       -1.000000      0.000000  \n",
              "max      871.000000    275.000000  "
            ],
            "text/html": [
              "\n",
              "  <div id=\"df-6a2ef9f6-14f9-4125-9f99-f7044349b9aa\">\n",
              "    <div class=\"colab-df-container\">\n",
              "      <div>\n",
              "<style scoped>\n",
              "    .dataframe tbody tr th:only-of-type {\n",
              "        vertical-align: middle;\n",
              "    }\n",
              "\n",
              "    .dataframe tbody tr th {\n",
              "        vertical-align: top;\n",
              "    }\n",
              "\n",
              "    .dataframe thead th {\n",
              "        text-align: right;\n",
              "    }\n",
              "</style>\n",
              "<table border=\"1\" class=\"dataframe\">\n",
              "  <thead>\n",
              "    <tr style=\"text-align: right;\">\n",
              "      <th></th>\n",
              "      <th>age</th>\n",
              "      <th>balance</th>\n",
              "      <th>day</th>\n",
              "      <th>duration</th>\n",
              "      <th>campaign</th>\n",
              "      <th>pdays</th>\n",
              "      <th>previous</th>\n",
              "    </tr>\n",
              "  </thead>\n",
              "  <tbody>\n",
              "    <tr>\n",
              "      <th>count</th>\n",
              "      <td>45211.000000</td>\n",
              "      <td>45211.000000</td>\n",
              "      <td>45211.000000</td>\n",
              "      <td>45211.000000</td>\n",
              "      <td>45211.000000</td>\n",
              "      <td>45211.000000</td>\n",
              "      <td>45211.000000</td>\n",
              "    </tr>\n",
              "    <tr>\n",
              "      <th>mean</th>\n",
              "      <td>40.936210</td>\n",
              "      <td>1362.272058</td>\n",
              "      <td>15.806419</td>\n",
              "      <td>258.163080</td>\n",
              "      <td>2.763841</td>\n",
              "      <td>40.197828</td>\n",
              "      <td>0.580323</td>\n",
              "    </tr>\n",
              "    <tr>\n",
              "      <th>std</th>\n",
              "      <td>10.618762</td>\n",
              "      <td>3044.765829</td>\n",
              "      <td>8.322476</td>\n",
              "      <td>257.527812</td>\n",
              "      <td>3.098021</td>\n",
              "      <td>100.128746</td>\n",
              "      <td>2.303441</td>\n",
              "    </tr>\n",
              "    <tr>\n",
              "      <th>min</th>\n",
              "      <td>18.000000</td>\n",
              "      <td>-8019.000000</td>\n",
              "      <td>1.000000</td>\n",
              "      <td>0.000000</td>\n",
              "      <td>1.000000</td>\n",
              "      <td>-1.000000</td>\n",
              "      <td>0.000000</td>\n",
              "    </tr>\n",
              "    <tr>\n",
              "      <th>25%</th>\n",
              "      <td>33.000000</td>\n",
              "      <td>72.000000</td>\n",
              "      <td>8.000000</td>\n",
              "      <td>103.000000</td>\n",
              "      <td>1.000000</td>\n",
              "      <td>-1.000000</td>\n",
              "      <td>0.000000</td>\n",
              "    </tr>\n",
              "    <tr>\n",
              "      <th>50%</th>\n",
              "      <td>39.000000</td>\n",
              "      <td>448.000000</td>\n",
              "      <td>16.000000</td>\n",
              "      <td>180.000000</td>\n",
              "      <td>2.000000</td>\n",
              "      <td>-1.000000</td>\n",
              "      <td>0.000000</td>\n",
              "    </tr>\n",
              "    <tr>\n",
              "      <th>75%</th>\n",
              "      <td>48.000000</td>\n",
              "      <td>1428.000000</td>\n",
              "      <td>21.000000</td>\n",
              "      <td>319.000000</td>\n",
              "      <td>3.000000</td>\n",
              "      <td>-1.000000</td>\n",
              "      <td>0.000000</td>\n",
              "    </tr>\n",
              "    <tr>\n",
              "      <th>max</th>\n",
              "      <td>95.000000</td>\n",
              "      <td>102127.000000</td>\n",
              "      <td>31.000000</td>\n",
              "      <td>4918.000000</td>\n",
              "      <td>63.000000</td>\n",
              "      <td>871.000000</td>\n",
              "      <td>275.000000</td>\n",
              "    </tr>\n",
              "  </tbody>\n",
              "</table>\n",
              "</div>\n",
              "      <button class=\"colab-df-convert\" onclick=\"convertToInteractive('df-6a2ef9f6-14f9-4125-9f99-f7044349b9aa')\"\n",
              "              title=\"Convert this dataframe to an interactive table.\"\n",
              "              style=\"display:none;\">\n",
              "        \n",
              "  <svg xmlns=\"http://www.w3.org/2000/svg\" height=\"24px\"viewBox=\"0 0 24 24\"\n",
              "       width=\"24px\">\n",
              "    <path d=\"M0 0h24v24H0V0z\" fill=\"none\"/>\n",
              "    <path d=\"M18.56 5.44l.94 2.06.94-2.06 2.06-.94-2.06-.94-.94-2.06-.94 2.06-2.06.94zm-11 1L8.5 8.5l.94-2.06 2.06-.94-2.06-.94L8.5 2.5l-.94 2.06-2.06.94zm10 10l.94 2.06.94-2.06 2.06-.94-2.06-.94-.94-2.06-.94 2.06-2.06.94z\"/><path d=\"M17.41 7.96l-1.37-1.37c-.4-.4-.92-.59-1.43-.59-.52 0-1.04.2-1.43.59L10.3 9.45l-7.72 7.72c-.78.78-.78 2.05 0 2.83L4 21.41c.39.39.9.59 1.41.59.51 0 1.02-.2 1.41-.59l7.78-7.78 2.81-2.81c.8-.78.8-2.07 0-2.86zM5.41 20L4 18.59l7.72-7.72 1.47 1.35L5.41 20z\"/>\n",
              "  </svg>\n",
              "      </button>\n",
              "      \n",
              "  <style>\n",
              "    .colab-df-container {\n",
              "      display:flex;\n",
              "      flex-wrap:wrap;\n",
              "      gap: 12px;\n",
              "    }\n",
              "\n",
              "    .colab-df-convert {\n",
              "      background-color: #E8F0FE;\n",
              "      border: none;\n",
              "      border-radius: 50%;\n",
              "      cursor: pointer;\n",
              "      display: none;\n",
              "      fill: #1967D2;\n",
              "      height: 32px;\n",
              "      padding: 0 0 0 0;\n",
              "      width: 32px;\n",
              "    }\n",
              "\n",
              "    .colab-df-convert:hover {\n",
              "      background-color: #E2EBFA;\n",
              "      box-shadow: 0px 1px 2px rgba(60, 64, 67, 0.3), 0px 1px 3px 1px rgba(60, 64, 67, 0.15);\n",
              "      fill: #174EA6;\n",
              "    }\n",
              "\n",
              "    [theme=dark] .colab-df-convert {\n",
              "      background-color: #3B4455;\n",
              "      fill: #D2E3FC;\n",
              "    }\n",
              "\n",
              "    [theme=dark] .colab-df-convert:hover {\n",
              "      background-color: #434B5C;\n",
              "      box-shadow: 0px 1px 3px 1px rgba(0, 0, 0, 0.15);\n",
              "      filter: drop-shadow(0px 1px 2px rgba(0, 0, 0, 0.3));\n",
              "      fill: #FFFFFF;\n",
              "    }\n",
              "  </style>\n",
              "\n",
              "      <script>\n",
              "        const buttonEl =\n",
              "          document.querySelector('#df-6a2ef9f6-14f9-4125-9f99-f7044349b9aa button.colab-df-convert');\n",
              "        buttonEl.style.display =\n",
              "          google.colab.kernel.accessAllowed ? 'block' : 'none';\n",
              "\n",
              "        async function convertToInteractive(key) {\n",
              "          const element = document.querySelector('#df-6a2ef9f6-14f9-4125-9f99-f7044349b9aa');\n",
              "          const dataTable =\n",
              "            await google.colab.kernel.invokeFunction('convertToInteractive',\n",
              "                                                     [key], {});\n",
              "          if (!dataTable) return;\n",
              "\n",
              "          const docLinkHtml = 'Like what you see? Visit the ' +\n",
              "            '<a target=\"_blank\" href=https://colab.research.google.com/notebooks/data_table.ipynb>data table notebook</a>'\n",
              "            + ' to learn more about interactive tables.';\n",
              "          element.innerHTML = '';\n",
              "          dataTable['output_type'] = 'display_data';\n",
              "          await google.colab.output.renderOutput(dataTable, element);\n",
              "          const docLink = document.createElement('div');\n",
              "          docLink.innerHTML = docLinkHtml;\n",
              "          element.appendChild(docLink);\n",
              "        }\n",
              "      </script>\n",
              "    </div>\n",
              "  </div>\n",
              "  "
            ]
          },
          "metadata": {},
          "execution_count": 7
        }
      ]
    },
    {
      "cell_type": "code",
      "source": [
        "dataset.head()"
      ],
      "metadata": {
        "colab": {
          "base_uri": "https://localhost:8080/",
          "height": 206
        },
        "id": "O9HC_YGF5TiW",
        "outputId": "4cc616b0-78f6-4e21-e6b4-33b8aa724d49"
      },
      "execution_count": 8,
      "outputs": [
        {
          "output_type": "execute_result",
          "data": {
            "text/plain": [
              "   age           job  marital  education default  balance housing loan  \\\n",
              "0   58    management  married   tertiary      no     2143     yes   no   \n",
              "1   44    technician   single  secondary      no       29     yes   no   \n",
              "2   33  entrepreneur  married  secondary      no        2     yes  yes   \n",
              "3   47   blue-collar  married    unknown      no     1506     yes   no   \n",
              "4   33       unknown   single    unknown      no        1      no   no   \n",
              "\n",
              "   contact  day month  duration  campaign  pdays  previous poutcome   y  \n",
              "0  unknown    5   may       261         1     -1         0  unknown  no  \n",
              "1  unknown    5   may       151         1     -1         0  unknown  no  \n",
              "2  unknown    5   may        76         1     -1         0  unknown  no  \n",
              "3  unknown    5   may        92         1     -1         0  unknown  no  \n",
              "4  unknown    5   may       198         1     -1         0  unknown  no  "
            ],
            "text/html": [
              "\n",
              "  <div id=\"df-cd03fa69-8cfb-4076-bdde-7fc6da55f5b7\">\n",
              "    <div class=\"colab-df-container\">\n",
              "      <div>\n",
              "<style scoped>\n",
              "    .dataframe tbody tr th:only-of-type {\n",
              "        vertical-align: middle;\n",
              "    }\n",
              "\n",
              "    .dataframe tbody tr th {\n",
              "        vertical-align: top;\n",
              "    }\n",
              "\n",
              "    .dataframe thead th {\n",
              "        text-align: right;\n",
              "    }\n",
              "</style>\n",
              "<table border=\"1\" class=\"dataframe\">\n",
              "  <thead>\n",
              "    <tr style=\"text-align: right;\">\n",
              "      <th></th>\n",
              "      <th>age</th>\n",
              "      <th>job</th>\n",
              "      <th>marital</th>\n",
              "      <th>education</th>\n",
              "      <th>default</th>\n",
              "      <th>balance</th>\n",
              "      <th>housing</th>\n",
              "      <th>loan</th>\n",
              "      <th>contact</th>\n",
              "      <th>day</th>\n",
              "      <th>month</th>\n",
              "      <th>duration</th>\n",
              "      <th>campaign</th>\n",
              "      <th>pdays</th>\n",
              "      <th>previous</th>\n",
              "      <th>poutcome</th>\n",
              "      <th>y</th>\n",
              "    </tr>\n",
              "  </thead>\n",
              "  <tbody>\n",
              "    <tr>\n",
              "      <th>0</th>\n",
              "      <td>58</td>\n",
              "      <td>management</td>\n",
              "      <td>married</td>\n",
              "      <td>tertiary</td>\n",
              "      <td>no</td>\n",
              "      <td>2143</td>\n",
              "      <td>yes</td>\n",
              "      <td>no</td>\n",
              "      <td>unknown</td>\n",
              "      <td>5</td>\n",
              "      <td>may</td>\n",
              "      <td>261</td>\n",
              "      <td>1</td>\n",
              "      <td>-1</td>\n",
              "      <td>0</td>\n",
              "      <td>unknown</td>\n",
              "      <td>no</td>\n",
              "    </tr>\n",
              "    <tr>\n",
              "      <th>1</th>\n",
              "      <td>44</td>\n",
              "      <td>technician</td>\n",
              "      <td>single</td>\n",
              "      <td>secondary</td>\n",
              "      <td>no</td>\n",
              "      <td>29</td>\n",
              "      <td>yes</td>\n",
              "      <td>no</td>\n",
              "      <td>unknown</td>\n",
              "      <td>5</td>\n",
              "      <td>may</td>\n",
              "      <td>151</td>\n",
              "      <td>1</td>\n",
              "      <td>-1</td>\n",
              "      <td>0</td>\n",
              "      <td>unknown</td>\n",
              "      <td>no</td>\n",
              "    </tr>\n",
              "    <tr>\n",
              "      <th>2</th>\n",
              "      <td>33</td>\n",
              "      <td>entrepreneur</td>\n",
              "      <td>married</td>\n",
              "      <td>secondary</td>\n",
              "      <td>no</td>\n",
              "      <td>2</td>\n",
              "      <td>yes</td>\n",
              "      <td>yes</td>\n",
              "      <td>unknown</td>\n",
              "      <td>5</td>\n",
              "      <td>may</td>\n",
              "      <td>76</td>\n",
              "      <td>1</td>\n",
              "      <td>-1</td>\n",
              "      <td>0</td>\n",
              "      <td>unknown</td>\n",
              "      <td>no</td>\n",
              "    </tr>\n",
              "    <tr>\n",
              "      <th>3</th>\n",
              "      <td>47</td>\n",
              "      <td>blue-collar</td>\n",
              "      <td>married</td>\n",
              "      <td>unknown</td>\n",
              "      <td>no</td>\n",
              "      <td>1506</td>\n",
              "      <td>yes</td>\n",
              "      <td>no</td>\n",
              "      <td>unknown</td>\n",
              "      <td>5</td>\n",
              "      <td>may</td>\n",
              "      <td>92</td>\n",
              "      <td>1</td>\n",
              "      <td>-1</td>\n",
              "      <td>0</td>\n",
              "      <td>unknown</td>\n",
              "      <td>no</td>\n",
              "    </tr>\n",
              "    <tr>\n",
              "      <th>4</th>\n",
              "      <td>33</td>\n",
              "      <td>unknown</td>\n",
              "      <td>single</td>\n",
              "      <td>unknown</td>\n",
              "      <td>no</td>\n",
              "      <td>1</td>\n",
              "      <td>no</td>\n",
              "      <td>no</td>\n",
              "      <td>unknown</td>\n",
              "      <td>5</td>\n",
              "      <td>may</td>\n",
              "      <td>198</td>\n",
              "      <td>1</td>\n",
              "      <td>-1</td>\n",
              "      <td>0</td>\n",
              "      <td>unknown</td>\n",
              "      <td>no</td>\n",
              "    </tr>\n",
              "  </tbody>\n",
              "</table>\n",
              "</div>\n",
              "      <button class=\"colab-df-convert\" onclick=\"convertToInteractive('df-cd03fa69-8cfb-4076-bdde-7fc6da55f5b7')\"\n",
              "              title=\"Convert this dataframe to an interactive table.\"\n",
              "              style=\"display:none;\">\n",
              "        \n",
              "  <svg xmlns=\"http://www.w3.org/2000/svg\" height=\"24px\"viewBox=\"0 0 24 24\"\n",
              "       width=\"24px\">\n",
              "    <path d=\"M0 0h24v24H0V0z\" fill=\"none\"/>\n",
              "    <path d=\"M18.56 5.44l.94 2.06.94-2.06 2.06-.94-2.06-.94-.94-2.06-.94 2.06-2.06.94zm-11 1L8.5 8.5l.94-2.06 2.06-.94-2.06-.94L8.5 2.5l-.94 2.06-2.06.94zm10 10l.94 2.06.94-2.06 2.06-.94-2.06-.94-.94-2.06-.94 2.06-2.06.94z\"/><path d=\"M17.41 7.96l-1.37-1.37c-.4-.4-.92-.59-1.43-.59-.52 0-1.04.2-1.43.59L10.3 9.45l-7.72 7.72c-.78.78-.78 2.05 0 2.83L4 21.41c.39.39.9.59 1.41.59.51 0 1.02-.2 1.41-.59l7.78-7.78 2.81-2.81c.8-.78.8-2.07 0-2.86zM5.41 20L4 18.59l7.72-7.72 1.47 1.35L5.41 20z\"/>\n",
              "  </svg>\n",
              "      </button>\n",
              "      \n",
              "  <style>\n",
              "    .colab-df-container {\n",
              "      display:flex;\n",
              "      flex-wrap:wrap;\n",
              "      gap: 12px;\n",
              "    }\n",
              "\n",
              "    .colab-df-convert {\n",
              "      background-color: #E8F0FE;\n",
              "      border: none;\n",
              "      border-radius: 50%;\n",
              "      cursor: pointer;\n",
              "      display: none;\n",
              "      fill: #1967D2;\n",
              "      height: 32px;\n",
              "      padding: 0 0 0 0;\n",
              "      width: 32px;\n",
              "    }\n",
              "\n",
              "    .colab-df-convert:hover {\n",
              "      background-color: #E2EBFA;\n",
              "      box-shadow: 0px 1px 2px rgba(60, 64, 67, 0.3), 0px 1px 3px 1px rgba(60, 64, 67, 0.15);\n",
              "      fill: #174EA6;\n",
              "    }\n",
              "\n",
              "    [theme=dark] .colab-df-convert {\n",
              "      background-color: #3B4455;\n",
              "      fill: #D2E3FC;\n",
              "    }\n",
              "\n",
              "    [theme=dark] .colab-df-convert:hover {\n",
              "      background-color: #434B5C;\n",
              "      box-shadow: 0px 1px 3px 1px rgba(0, 0, 0, 0.15);\n",
              "      filter: drop-shadow(0px 1px 2px rgba(0, 0, 0, 0.3));\n",
              "      fill: #FFFFFF;\n",
              "    }\n",
              "  </style>\n",
              "\n",
              "      <script>\n",
              "        const buttonEl =\n",
              "          document.querySelector('#df-cd03fa69-8cfb-4076-bdde-7fc6da55f5b7 button.colab-df-convert');\n",
              "        buttonEl.style.display =\n",
              "          google.colab.kernel.accessAllowed ? 'block' : 'none';\n",
              "\n",
              "        async function convertToInteractive(key) {\n",
              "          const element = document.querySelector('#df-cd03fa69-8cfb-4076-bdde-7fc6da55f5b7');\n",
              "          const dataTable =\n",
              "            await google.colab.kernel.invokeFunction('convertToInteractive',\n",
              "                                                     [key], {});\n",
              "          if (!dataTable) return;\n",
              "\n",
              "          const docLinkHtml = 'Like what you see? Visit the ' +\n",
              "            '<a target=\"_blank\" href=https://colab.research.google.com/notebooks/data_table.ipynb>data table notebook</a>'\n",
              "            + ' to learn more about interactive tables.';\n",
              "          element.innerHTML = '';\n",
              "          dataTable['output_type'] = 'display_data';\n",
              "          await google.colab.output.renderOutput(dataTable, element);\n",
              "          const docLink = document.createElement('div');\n",
              "          docLink.innerHTML = docLinkHtml;\n",
              "          element.appendChild(docLink);\n",
              "        }\n",
              "      </script>\n",
              "    </div>\n",
              "  </div>\n",
              "  "
            ]
          },
          "metadata": {},
          "execution_count": 8
        }
      ]
    },
    {
      "cell_type": "markdown",
      "metadata": {
        "id": "Xf12FtFS3wnY"
      },
      "source": [
        "###Encoding labels to numbers"
      ]
    },
    {
      "cell_type": "code",
      "metadata": {
        "colab": {
          "base_uri": "https://localhost:8080/"
        },
        "id": "4LyHANbJ3TRb",
        "outputId": "fdd7afc8-ae7f-4080-a683-af9b5540ec98"
      },
      "source": [
        "from sklearn.preprocessing import LabelEncoder\n",
        "encoders={}\n",
        "for col in dataset.columns:\n",
        "    if dataset[col].dtype==np.object:\n",
        "        encoders[col]=LabelEncoder()\n",
        "        dataset[col]=encoders[col].fit_transform(dataset[col])\n",
        "print(f\"Label encoded columns are:  {list(encoders.keys())}\")"
      ],
      "execution_count": 9,
      "outputs": [
        {
          "output_type": "stream",
          "name": "stdout",
          "text": [
            "Label encoded columns are:  ['job', 'marital', 'education', 'default', 'housing', 'loan', 'contact', 'month', 'poutcome', 'y']\n"
          ]
        },
        {
          "output_type": "stream",
          "name": "stderr",
          "text": [
            "/usr/local/lib/python3.7/dist-packages/ipykernel_launcher.py:4: DeprecationWarning: `np.object` is a deprecated alias for the builtin `object`. To silence this warning, use `object` by itself. Doing this will not modify any behavior and is safe. \n",
            "Deprecated in NumPy 1.20; for more details and guidance: https://numpy.org/devdocs/release/1.20.0-notes.html#deprecations\n",
            "  after removing the cwd from sys.path.\n"
          ]
        }
      ]
    },
    {
      "cell_type": "code",
      "source": [
        "dataset.head(10)"
      ],
      "metadata": {
        "colab": {
          "base_uri": "https://localhost:8080/",
          "height": 363
        },
        "id": "66OoXQY65ppI",
        "outputId": "bc9a80f3-c41d-4c0e-df28-04d19178c048"
      },
      "execution_count": 10,
      "outputs": [
        {
          "output_type": "execute_result",
          "data": {
            "text/plain": [
              "   age  job  marital  education  default  balance  housing  loan  contact  \\\n",
              "0   58    4        1          2        0     2143        1     0        2   \n",
              "1   44    9        2          1        0       29        1     0        2   \n",
              "2   33    2        1          1        0        2        1     1        2   \n",
              "3   47    1        1          3        0     1506        1     0        2   \n",
              "4   33   11        2          3        0        1        0     0        2   \n",
              "5   35    4        1          2        0      231        1     0        2   \n",
              "6   28    4        2          2        0      447        1     1        2   \n",
              "7   42    2        0          2        1        2        1     0        2   \n",
              "8   58    5        1          0        0      121        1     0        2   \n",
              "9   43    9        2          1        0      593        1     0        2   \n",
              "\n",
              "   day  month  duration  campaign  pdays  previous  poutcome  y  \n",
              "0    5      8       261         1     -1         0         3  0  \n",
              "1    5      8       151         1     -1         0         3  0  \n",
              "2    5      8        76         1     -1         0         3  0  \n",
              "3    5      8        92         1     -1         0         3  0  \n",
              "4    5      8       198         1     -1         0         3  0  \n",
              "5    5      8       139         1     -1         0         3  0  \n",
              "6    5      8       217         1     -1         0         3  0  \n",
              "7    5      8       380         1     -1         0         3  0  \n",
              "8    5      8        50         1     -1         0         3  0  \n",
              "9    5      8        55         1     -1         0         3  0  "
            ],
            "text/html": [
              "\n",
              "  <div id=\"df-c29c5d6b-d93e-4493-9e5f-d9bd865c6045\">\n",
              "    <div class=\"colab-df-container\">\n",
              "      <div>\n",
              "<style scoped>\n",
              "    .dataframe tbody tr th:only-of-type {\n",
              "        vertical-align: middle;\n",
              "    }\n",
              "\n",
              "    .dataframe tbody tr th {\n",
              "        vertical-align: top;\n",
              "    }\n",
              "\n",
              "    .dataframe thead th {\n",
              "        text-align: right;\n",
              "    }\n",
              "</style>\n",
              "<table border=\"1\" class=\"dataframe\">\n",
              "  <thead>\n",
              "    <tr style=\"text-align: right;\">\n",
              "      <th></th>\n",
              "      <th>age</th>\n",
              "      <th>job</th>\n",
              "      <th>marital</th>\n",
              "      <th>education</th>\n",
              "      <th>default</th>\n",
              "      <th>balance</th>\n",
              "      <th>housing</th>\n",
              "      <th>loan</th>\n",
              "      <th>contact</th>\n",
              "      <th>day</th>\n",
              "      <th>month</th>\n",
              "      <th>duration</th>\n",
              "      <th>campaign</th>\n",
              "      <th>pdays</th>\n",
              "      <th>previous</th>\n",
              "      <th>poutcome</th>\n",
              "      <th>y</th>\n",
              "    </tr>\n",
              "  </thead>\n",
              "  <tbody>\n",
              "    <tr>\n",
              "      <th>0</th>\n",
              "      <td>58</td>\n",
              "      <td>4</td>\n",
              "      <td>1</td>\n",
              "      <td>2</td>\n",
              "      <td>0</td>\n",
              "      <td>2143</td>\n",
              "      <td>1</td>\n",
              "      <td>0</td>\n",
              "      <td>2</td>\n",
              "      <td>5</td>\n",
              "      <td>8</td>\n",
              "      <td>261</td>\n",
              "      <td>1</td>\n",
              "      <td>-1</td>\n",
              "      <td>0</td>\n",
              "      <td>3</td>\n",
              "      <td>0</td>\n",
              "    </tr>\n",
              "    <tr>\n",
              "      <th>1</th>\n",
              "      <td>44</td>\n",
              "      <td>9</td>\n",
              "      <td>2</td>\n",
              "      <td>1</td>\n",
              "      <td>0</td>\n",
              "      <td>29</td>\n",
              "      <td>1</td>\n",
              "      <td>0</td>\n",
              "      <td>2</td>\n",
              "      <td>5</td>\n",
              "      <td>8</td>\n",
              "      <td>151</td>\n",
              "      <td>1</td>\n",
              "      <td>-1</td>\n",
              "      <td>0</td>\n",
              "      <td>3</td>\n",
              "      <td>0</td>\n",
              "    </tr>\n",
              "    <tr>\n",
              "      <th>2</th>\n",
              "      <td>33</td>\n",
              "      <td>2</td>\n",
              "      <td>1</td>\n",
              "      <td>1</td>\n",
              "      <td>0</td>\n",
              "      <td>2</td>\n",
              "      <td>1</td>\n",
              "      <td>1</td>\n",
              "      <td>2</td>\n",
              "      <td>5</td>\n",
              "      <td>8</td>\n",
              "      <td>76</td>\n",
              "      <td>1</td>\n",
              "      <td>-1</td>\n",
              "      <td>0</td>\n",
              "      <td>3</td>\n",
              "      <td>0</td>\n",
              "    </tr>\n",
              "    <tr>\n",
              "      <th>3</th>\n",
              "      <td>47</td>\n",
              "      <td>1</td>\n",
              "      <td>1</td>\n",
              "      <td>3</td>\n",
              "      <td>0</td>\n",
              "      <td>1506</td>\n",
              "      <td>1</td>\n",
              "      <td>0</td>\n",
              "      <td>2</td>\n",
              "      <td>5</td>\n",
              "      <td>8</td>\n",
              "      <td>92</td>\n",
              "      <td>1</td>\n",
              "      <td>-1</td>\n",
              "      <td>0</td>\n",
              "      <td>3</td>\n",
              "      <td>0</td>\n",
              "    </tr>\n",
              "    <tr>\n",
              "      <th>4</th>\n",
              "      <td>33</td>\n",
              "      <td>11</td>\n",
              "      <td>2</td>\n",
              "      <td>3</td>\n",
              "      <td>0</td>\n",
              "      <td>1</td>\n",
              "      <td>0</td>\n",
              "      <td>0</td>\n",
              "      <td>2</td>\n",
              "      <td>5</td>\n",
              "      <td>8</td>\n",
              "      <td>198</td>\n",
              "      <td>1</td>\n",
              "      <td>-1</td>\n",
              "      <td>0</td>\n",
              "      <td>3</td>\n",
              "      <td>0</td>\n",
              "    </tr>\n",
              "    <tr>\n",
              "      <th>5</th>\n",
              "      <td>35</td>\n",
              "      <td>4</td>\n",
              "      <td>1</td>\n",
              "      <td>2</td>\n",
              "      <td>0</td>\n",
              "      <td>231</td>\n",
              "      <td>1</td>\n",
              "      <td>0</td>\n",
              "      <td>2</td>\n",
              "      <td>5</td>\n",
              "      <td>8</td>\n",
              "      <td>139</td>\n",
              "      <td>1</td>\n",
              "      <td>-1</td>\n",
              "      <td>0</td>\n",
              "      <td>3</td>\n",
              "      <td>0</td>\n",
              "    </tr>\n",
              "    <tr>\n",
              "      <th>6</th>\n",
              "      <td>28</td>\n",
              "      <td>4</td>\n",
              "      <td>2</td>\n",
              "      <td>2</td>\n",
              "      <td>0</td>\n",
              "      <td>447</td>\n",
              "      <td>1</td>\n",
              "      <td>1</td>\n",
              "      <td>2</td>\n",
              "      <td>5</td>\n",
              "      <td>8</td>\n",
              "      <td>217</td>\n",
              "      <td>1</td>\n",
              "      <td>-1</td>\n",
              "      <td>0</td>\n",
              "      <td>3</td>\n",
              "      <td>0</td>\n",
              "    </tr>\n",
              "    <tr>\n",
              "      <th>7</th>\n",
              "      <td>42</td>\n",
              "      <td>2</td>\n",
              "      <td>0</td>\n",
              "      <td>2</td>\n",
              "      <td>1</td>\n",
              "      <td>2</td>\n",
              "      <td>1</td>\n",
              "      <td>0</td>\n",
              "      <td>2</td>\n",
              "      <td>5</td>\n",
              "      <td>8</td>\n",
              "      <td>380</td>\n",
              "      <td>1</td>\n",
              "      <td>-1</td>\n",
              "      <td>0</td>\n",
              "      <td>3</td>\n",
              "      <td>0</td>\n",
              "    </tr>\n",
              "    <tr>\n",
              "      <th>8</th>\n",
              "      <td>58</td>\n",
              "      <td>5</td>\n",
              "      <td>1</td>\n",
              "      <td>0</td>\n",
              "      <td>0</td>\n",
              "      <td>121</td>\n",
              "      <td>1</td>\n",
              "      <td>0</td>\n",
              "      <td>2</td>\n",
              "      <td>5</td>\n",
              "      <td>8</td>\n",
              "      <td>50</td>\n",
              "      <td>1</td>\n",
              "      <td>-1</td>\n",
              "      <td>0</td>\n",
              "      <td>3</td>\n",
              "      <td>0</td>\n",
              "    </tr>\n",
              "    <tr>\n",
              "      <th>9</th>\n",
              "      <td>43</td>\n",
              "      <td>9</td>\n",
              "      <td>2</td>\n",
              "      <td>1</td>\n",
              "      <td>0</td>\n",
              "      <td>593</td>\n",
              "      <td>1</td>\n",
              "      <td>0</td>\n",
              "      <td>2</td>\n",
              "      <td>5</td>\n",
              "      <td>8</td>\n",
              "      <td>55</td>\n",
              "      <td>1</td>\n",
              "      <td>-1</td>\n",
              "      <td>0</td>\n",
              "      <td>3</td>\n",
              "      <td>0</td>\n",
              "    </tr>\n",
              "  </tbody>\n",
              "</table>\n",
              "</div>\n",
              "      <button class=\"colab-df-convert\" onclick=\"convertToInteractive('df-c29c5d6b-d93e-4493-9e5f-d9bd865c6045')\"\n",
              "              title=\"Convert this dataframe to an interactive table.\"\n",
              "              style=\"display:none;\">\n",
              "        \n",
              "  <svg xmlns=\"http://www.w3.org/2000/svg\" height=\"24px\"viewBox=\"0 0 24 24\"\n",
              "       width=\"24px\">\n",
              "    <path d=\"M0 0h24v24H0V0z\" fill=\"none\"/>\n",
              "    <path d=\"M18.56 5.44l.94 2.06.94-2.06 2.06-.94-2.06-.94-.94-2.06-.94 2.06-2.06.94zm-11 1L8.5 8.5l.94-2.06 2.06-.94-2.06-.94L8.5 2.5l-.94 2.06-2.06.94zm10 10l.94 2.06.94-2.06 2.06-.94-2.06-.94-.94-2.06-.94 2.06-2.06.94z\"/><path d=\"M17.41 7.96l-1.37-1.37c-.4-.4-.92-.59-1.43-.59-.52 0-1.04.2-1.43.59L10.3 9.45l-7.72 7.72c-.78.78-.78 2.05 0 2.83L4 21.41c.39.39.9.59 1.41.59.51 0 1.02-.2 1.41-.59l7.78-7.78 2.81-2.81c.8-.78.8-2.07 0-2.86zM5.41 20L4 18.59l7.72-7.72 1.47 1.35L5.41 20z\"/>\n",
              "  </svg>\n",
              "      </button>\n",
              "      \n",
              "  <style>\n",
              "    .colab-df-container {\n",
              "      display:flex;\n",
              "      flex-wrap:wrap;\n",
              "      gap: 12px;\n",
              "    }\n",
              "\n",
              "    .colab-df-convert {\n",
              "      background-color: #E8F0FE;\n",
              "      border: none;\n",
              "      border-radius: 50%;\n",
              "      cursor: pointer;\n",
              "      display: none;\n",
              "      fill: #1967D2;\n",
              "      height: 32px;\n",
              "      padding: 0 0 0 0;\n",
              "      width: 32px;\n",
              "    }\n",
              "\n",
              "    .colab-df-convert:hover {\n",
              "      background-color: #E2EBFA;\n",
              "      box-shadow: 0px 1px 2px rgba(60, 64, 67, 0.3), 0px 1px 3px 1px rgba(60, 64, 67, 0.15);\n",
              "      fill: #174EA6;\n",
              "    }\n",
              "\n",
              "    [theme=dark] .colab-df-convert {\n",
              "      background-color: #3B4455;\n",
              "      fill: #D2E3FC;\n",
              "    }\n",
              "\n",
              "    [theme=dark] .colab-df-convert:hover {\n",
              "      background-color: #434B5C;\n",
              "      box-shadow: 0px 1px 3px 1px rgba(0, 0, 0, 0.15);\n",
              "      filter: drop-shadow(0px 1px 2px rgba(0, 0, 0, 0.3));\n",
              "      fill: #FFFFFF;\n",
              "    }\n",
              "  </style>\n",
              "\n",
              "      <script>\n",
              "        const buttonEl =\n",
              "          document.querySelector('#df-c29c5d6b-d93e-4493-9e5f-d9bd865c6045 button.colab-df-convert');\n",
              "        buttonEl.style.display =\n",
              "          google.colab.kernel.accessAllowed ? 'block' : 'none';\n",
              "\n",
              "        async function convertToInteractive(key) {\n",
              "          const element = document.querySelector('#df-c29c5d6b-d93e-4493-9e5f-d9bd865c6045');\n",
              "          const dataTable =\n",
              "            await google.colab.kernel.invokeFunction('convertToInteractive',\n",
              "                                                     [key], {});\n",
              "          if (!dataTable) return;\n",
              "\n",
              "          const docLinkHtml = 'Like what you see? Visit the ' +\n",
              "            '<a target=\"_blank\" href=https://colab.research.google.com/notebooks/data_table.ipynb>data table notebook</a>'\n",
              "            + ' to learn more about interactive tables.';\n",
              "          element.innerHTML = '';\n",
              "          dataTable['output_type'] = 'display_data';\n",
              "          await google.colab.output.renderOutput(dataTable, element);\n",
              "          const docLink = document.createElement('div');\n",
              "          docLink.innerHTML = docLinkHtml;\n",
              "          element.appendChild(docLink);\n",
              "        }\n",
              "      </script>\n",
              "    </div>\n",
              "  </div>\n",
              "  "
            ]
          },
          "metadata": {},
          "execution_count": 10
        }
      ]
    },
    {
      "cell_type": "markdown",
      "metadata": {
        "id": "K4KHtdMg95rt"
      },
      "source": [
        "###Splitting data \n",
        "#####Note: Splitting before feature scaling, data imputation and outlier removal to avoid data leakage and generalise model on unknown data\n"
      ]
    },
    {
      "cell_type": "code",
      "metadata": {
        "id": "oFN2D56EYEmR"
      },
      "source": [
        "from sklearn.model_selection import train_test_split\n",
        "X_train,X_test,y_train,y_test=train_test_split(dataset.drop(columns=[\"y\"]),dataset[\"y\"],train_size=0.9,random_state=1)"
      ],
      "execution_count": 11,
      "outputs": []
    },
    {
      "cell_type": "code",
      "metadata": {
        "colab": {
          "base_uri": "https://localhost:8080/"
        },
        "id": "bdYfKVlT5Ajr",
        "outputId": "eb715805-1109-493a-c8ea-8b67329e6564"
      },
      "source": [
        "print(f\"No.of samples in train: {X_train.shape[0]}\")\n",
        "print(f\"No.of samples in test: {len(X_test)}\")"
      ],
      "execution_count": 12,
      "outputs": [
        {
          "output_type": "stream",
          "name": "stdout",
          "text": [
            "No.of samples in train: 40689\n",
            "No.of samples in test: 4522\n"
          ]
        }
      ]
    },
    {
      "cell_type": "markdown",
      "metadata": {
        "id": "9BewWNNm1dKr"
      },
      "source": [
        "###Applying machine learning algorithm before preprocessing"
      ]
    },
    {
      "cell_type": "code",
      "metadata": {
        "colab": {
          "base_uri": "https://localhost:8080/"
        },
        "id": "EpY8-dFp1XXb",
        "outputId": "8d26a923-7252-442c-89a7-41f028621781"
      },
      "source": [
        "from sklearn.neighbors import KNeighborsClassifier\n",
        "knn_clf = KNeighborsClassifier()\n",
        "knn_clf.fit(X_train, y_train)\n",
        "print(f\"Accuracy of train set: {np.round(knn_clf.score(X_train,y_train)*100,decimals=2)}\")\n",
        "print(f\"Accuracy of test set: {np.round(knn_clf.score(X_test,y_test)*100,decimals=2)}\")"
      ],
      "execution_count": 13,
      "outputs": [
        {
          "output_type": "stream",
          "name": "stdout",
          "text": [
            "Accuracy of train set: 91.18\n",
            "Accuracy of test set: 87.51\n"
          ]
        }
      ]
    },
    {
      "cell_type": "markdown",
      "metadata": {
        "id": "fCcZwipL0TbU"
      },
      "source": [
        "###Creating a column name list with numerical data of dataset"
      ]
    },
    {
      "cell_type": "code",
      "metadata": {
        "id": "qBPgfjRBAS2n",
        "colab": {
          "base_uri": "https://localhost:8080/"
        },
        "outputId": "f23eb5b9-8332-4c99-f866-6287a80d530c"
      },
      "source": [
        "categorical_columns = set(encoders.keys())\n",
        "all_columns = set(X_train.columns)\n",
        "numerical_columns = list(all_columns.difference(categorical_columns))\n",
        "print(f\"All columns list is : {all_columns}\")\n",
        "print(f\"Numerical column list is : {numerical_columns}\")\n",
        "print(f\"Categorical column(before encoding) list is : {categorical_columns}\")"
      ],
      "execution_count": 14,
      "outputs": [
        {
          "output_type": "stream",
          "name": "stdout",
          "text": [
            "All columns list is : {'job', 'contact', 'duration', 'pdays', 'marital', 'campaign', 'poutcome', 'education', 'loan', 'age', 'day', 'default', 'housing', 'previous', 'balance', 'month'}\n",
            "Numerical column list is : ['duration', 'pdays', 'campaign', 'age', 'day', 'previous', 'balance']\n",
            "Categorical column(before encoding) list is : {'job', 'contact', 'poutcome', 'marital', 'education', 'y', 'loan', 'default', 'housing', 'month'}\n"
          ]
        }
      ]
    },
    {
      "cell_type": "markdown",
      "metadata": {
        "id": "up1N5EUc5SvA"
      },
      "source": [
        "## **Preprocessing**\n"
      ]
    },
    {
      "cell_type": "markdown",
      "metadata": {
        "id": "d4HwOypZ5Wyy"
      },
      "source": [
        "###Inspecting duplicates"
      ]
    },
    {
      "cell_type": "code",
      "metadata": {
        "colab": {
          "base_uri": "https://localhost:8080/"
        },
        "id": "iyIwk4A-5YNS",
        "outputId": "4e751291-b7e1-46e6-fc6b-9e2c1d548273"
      },
      "source": [
        "print(f\"Duplicates in train data: {X_train.duplicated().sum()}\")\n",
        "print(f\"Duplicates in test data: {X_test.duplicated().sum()}\")"
      ],
      "execution_count": 15,
      "outputs": [
        {
          "output_type": "stream",
          "name": "stdout",
          "text": [
            "Duplicates in train data: 0\n",
            "Duplicates in test data: 0\n"
          ]
        }
      ]
    },
    {
      "cell_type": "markdown",
      "metadata": {
        "id": "QiWSLkd7noEq"
      },
      "source": [
        "####Outlier Detection for numerical columns using standard formula \n",
        ">**high oulier** = Q3 + (1.5)\\*IQR <br>\n",
        ">**lower oulier** = Q1 - (1.5)\\*IQR <br>\n",
        "> **IQR** = (Q3-Q1)"
      ]
    },
    {
      "cell_type": "code",
      "metadata": {
        "colab": {
          "base_uri": "https://localhost:8080/"
        },
        "id": "N0oRHD_TAsc3",
        "outputId": "1b3bf6ba-e38b-4d04-bf68-50bd2fc3e612"
      },
      "source": [
        "high_train = X_train[numerical_columns].quantile(q=0.75) + 1.5 * ( X_train[numerical_columns].quantile(q=0.75) - X_train[numerical_columns].quantile(q=0.25) )\n",
        "low_train = X_train[numerical_columns].quantile(q=0.25) - 1.5 * ( X_train[numerical_columns].quantile(q=0.75) - X_train[numerical_columns].quantile(q=0.25) )\n",
        "print(\"Train dataset: \\n\")\n",
        "print(f\"High Outliers\\n{high_train}\")\n",
        "print(f\"\\nLow Outliers\\n{low_train}\")\n",
        "high_test = X_test[numerical_columns].quantile(q=0.75) + 1.5 * ( X_test[numerical_columns].quantile(q=0.75) - X_test[numerical_columns].quantile(q=0.25) )\n",
        "low_test = X_test[numerical_columns].quantile(q=0.25) - 1.5 * ( X_test[numerical_columns].quantile(q=0.75) - X_test[numerical_columns].quantile(q=0.25) )\n",
        "print(\"Test dataset: \\n\")\n",
        "print(f\"High Outliers\\n{high_test}\")\n",
        "print(f\"\\nLow Outliers\\n{low_test}\")"
      ],
      "execution_count": 16,
      "outputs": [
        {
          "output_type": "stream",
          "name": "stdout",
          "text": [
            "Train dataset: \n",
            "\n",
            "High Outliers\n",
            "duration     640.5\n",
            "pdays         -1.0\n",
            "campaign       6.0\n",
            "age           70.5\n",
            "day           40.5\n",
            "previous       0.0\n",
            "balance     3453.0\n",
            "dtype: float64\n",
            "\n",
            "Low Outliers\n",
            "duration    -219.5\n",
            "pdays         -1.0\n",
            "campaign      -2.0\n",
            "age           10.5\n",
            "day          -11.5\n",
            "previous       0.0\n",
            "balance    -1955.0\n",
            "dtype: float64\n",
            "Test dataset: \n",
            "\n",
            "High Outliers\n",
            "duration     650.50\n",
            "pdays         -1.00\n",
            "campaign       6.00\n",
            "age           73.00\n",
            "day           39.00\n",
            "previous       0.00\n",
            "balance     3501.25\n",
            "dtype: float64\n",
            "\n",
            "Low Outliers\n",
            "duration    -225.50\n",
            "pdays         -1.00\n",
            "campaign      -2.00\n",
            "age            9.00\n",
            "day           -9.00\n",
            "previous       0.00\n",
            "balance    -1994.75\n",
            "dtype: float64\n"
          ]
        }
      ]
    },
    {
      "cell_type": "markdown",
      "metadata": {
        "id": "4axrDghflZcc"
      },
      "source": [
        "###Visualising outliers\n"
      ]
    },
    {
      "cell_type": "code",
      "metadata": {
        "colab": {
          "base_uri": "https://localhost:8080/",
          "height": 1000
        },
        "id": "D_TF6p6GldSK",
        "outputId": "cdc4c8d5-4260-486d-edcd-c0b987c494ca"
      },
      "source": [
        "import matplotlib.pyplot as plt\n",
        "import scipy\n",
        "import seaborn as sn\n",
        "fig, axes=plt.subplots(len(numerical_columns),2,figsize=(15,50))\n",
        "for i in range(len(numerical_columns)):\n",
        "    sns.boxplot(data=X_train,x=numerical_columns[i],ax=axes[i,0])\n",
        "    axes[i,0].set_title(\"Train \"+numerical_columns[i])\n",
        "    sns.boxplot(data=X_test,x=numerical_columns[i],ax=axes[i,1])\n",
        "    axes[i,1].set_title(\"Test \"+numerical_columns[i])\n",
        "plt.show()"
      ],
      "execution_count": 17,
      "outputs": [
        {
          "output_type": "display_data",
          "data": {
            "text/plain": [
              "<Figure size 1080x3600 with 14 Axes>"
            ],
            "image/png": "[encoded data removed]"
          },
          "metadata": {
            "needs_background": "light"
          }
        }
      ]
    },
    {
      "cell_type": "markdown",
      "metadata": {
        "id": "lFMIw4yhsjyz"
      },
      "source": [
        "###Removing Outlier\n"
      ]
    },
    {
      "cell_type": "code",
      "metadata": {
        "id": "R2ci52jiVIL6"
      },
      "source": [
        "def remove_lows(features,i,high_outlier,low_outlier):\n",
        "    features[i][features[i]<low_outlier[i]]=None\n",
        "    features[i][features[i].isna()]=features[i].median(skipna=True)\n",
        "    return features[i]\n",
        "def remove_highs(features,i,high_outlier,low_outlier):\n",
        "    features[i][features[i]>high_outlier[i]]=None\n",
        "    features[i][features[i].isna()]=features[i].median(skipna=True)\n",
        "    return features[i]\n",
        "def remove_both(features,i,high_outlier,low_outlier):\n",
        "    features[i][(features[i]>high_outlier[i])|(features[i]<low_outlier[i])]=None\n",
        "    features[i][features[i].isna()]=features[i].median(skipna=True)\n",
        "    return features[i]\n",
        "def same(features,i,high_outlier,low_outlier):\n",
        "    return features[i]\n",
        "def outlier_remover(features,targets,high_outlier,low_outlier):\n",
        "    best_process={0:same,1:remove_lows,2:remove_highs,3:remove_both}\n",
        "    column_names=features.columns\n",
        "    features_copy=features.copy()\n",
        "    for i in column_names:\n",
        "        #Storing the initial correlation and appending the correlation of outlier removal datasets\n",
        "        correlations=[pd.DataFrame(features[i]).corrwith(targets)[0]]\n",
        "        #removing lower outliers\n",
        "        correlations.append(pd.DataFrame(best_process[1](features.copy(),i,high_outlier,low_outlier)).corrwith(targets)[0])\n",
        "        #removing higher outliers\n",
        "        correlations.append(pd.DataFrame(best_process[2](features.copy(),i,high_outlier,low_outlier)).corrwith(targets)[0])\n",
        "        #removing higher and lower outliers\n",
        "        correlations.append(pd.DataFrame(best_process[3](features.copy(),i,high_outlier,low_outlier)).corrwith(targets)[0])\n",
        "        #selecting best approac\n",
        "        features[i]=best_process[np.abs(np.array(correlations)).argmax()](features,i,high_outlier,low_outlier)\n",
        "    return features[column_names]"
      ],
      "execution_count": 18,
      "outputs": []
    },
    {
      "cell_type": "code",
      "metadata": {
        "id": "VrylrOBPZbzx",
        "colab": {
          "base_uri": "https://localhost:8080/"
        },
        "outputId": "36f4724f-f4ed-4d8f-c2bf-ddb6d9c8cba8"
      },
      "source": [
        "from itertools import compress \n",
        "#finding numerical columns where lower outlier is not equal to high outlier\n",
        "test_outlier_col=list(compress(numerical_columns, (high_test!=low_test).to_list())) \n",
        "train_outlier_col=list(compress(numerical_columns, (high_train!=low_train).to_list())) \n",
        "#removing outliers in train set\n",
        "X_train[train_outlier_col]=outlier_remover(X_train[train_outlier_col],y_train,high_train,low_train)\n",
        "#removing outliers in test set\n",
        "X_test[test_outlier_col]=outlier_remover(X_test[test_outlier_col],y_test,high_test,low_test)"
      ],
      "execution_count": 19,
      "outputs": [
        {
          "output_type": "stream",
          "name": "stderr",
          "text": [
            "/usr/local/lib/python3.7/dist-packages/ipykernel_launcher.py:7: SettingWithCopyWarning: \n",
            "A value is trying to be set on a copy of a slice from a DataFrame\n",
            "\n",
            "See the caveats in the documentation: https://pandas.pydata.org/pandas-docs/stable/user_guide/indexing.html#returning-a-view-versus-a-copy\n",
            "  import sys\n",
            "/usr/local/lib/python3.7/dist-packages/ipykernel_launcher.py:11: SettingWithCopyWarning: \n",
            "A value is trying to be set on a copy of a slice from a DataFrame\n",
            "\n",
            "See the caveats in the documentation: https://pandas.pydata.org/pandas-docs/stable/user_guide/indexing.html#returning-a-view-versus-a-copy\n",
            "  # This is added back by InteractiveShellApp.init_path()\n",
            "/usr/local/lib/python3.7/dist-packages/ipykernel_launcher.py:29: SettingWithCopyWarning: \n",
            "A value is trying to be set on a copy of a slice from a DataFrame.\n",
            "Try using .loc[row_indexer,col_indexer] = value instead\n",
            "\n",
            "See the caveats in the documentation: https://pandas.pydata.org/pandas-docs/stable/user_guide/indexing.html#returning-a-view-versus-a-copy\n",
            "/usr/local/lib/python3.7/dist-packages/ipykernel_launcher.py:3: SettingWithCopyWarning: \n",
            "A value is trying to be set on a copy of a slice from a DataFrame\n",
            "\n",
            "See the caveats in the documentation: https://pandas.pydata.org/pandas-docs/stable/user_guide/indexing.html#returning-a-view-versus-a-copy\n",
            "  This is separate from the ipykernel package so we can avoid doing imports until\n",
            "/usr/local/lib/python3.7/dist-packages/pandas/core/generic.py:8870: SettingWithCopyWarning: \n",
            "A value is trying to be set on a copy of a slice from a DataFrame\n",
            "\n",
            "See the caveats in the documentation: https://pandas.pydata.org/pandas-docs/stable/user_guide/indexing.html#returning-a-view-versus-a-copy\n",
            "  return self._update_inplace(result)\n"
          ]
        }
      ]
    },
    {
      "cell_type": "markdown",
      "metadata": {
        "id": "TVrR5y-DBu77"
      },
      "source": [
        "###Feature Scaling"
      ]
    },
    {
      "cell_type": "code",
      "source": [
        "X_train.head(5)\n"
      ],
      "metadata": {
        "colab": {
          "base_uri": "https://localhost:8080/",
          "height": 206
        },
        "id": "hoTe67Hl70gC",
        "outputId": "a9f7e3ef-ac73-42cb-b2f9-bef2195d5437"
      },
      "execution_count": 20,
      "outputs": [
        {
          "output_type": "execute_result",
          "data": {
            "text/plain": [
              "       age  job  marital  education  default  balance  housing  loan  contact  \\\n",
              "42864   68    5        1          2        0   2812.0        0     0        0   \n",
              "29736   41   10        1          1        0   2423.0        1     0        0   \n",
              "19403   53    9        1          1        0   1225.0        0     0        0   \n",
              "12972   35    4        1          2        0    126.0        0     1        0   \n",
              "41632   61   10        1          0        0      1.0        0     0        0   \n",
              "\n",
              "       day  month  duration  campaign  pdays  previous  poutcome  \n",
              "42864    3      3       279         2    181         1         0  \n",
              "29736    4      3       101         1     -1         0         3  \n",
              "19403    6      1        70         2     -1         0         3  \n",
              "12972    7      5       371         2     -1         0         3  \n",
              "41632   25     11        85         1     -1         0         3  "
            ],
            "text/html": [
              "\n",
              "  <div id=\"df-aa53af08-e513-4f39-a569-aec3bf7d16b1\">\n",
              "    <div class=\"colab-df-container\">\n",
              "      <div>\n",
              "<style scoped>\n",
              "    .dataframe tbody tr th:only-of-type {\n",
              "        vertical-align: middle;\n",
              "    }\n",
              "\n",
              "    .dataframe tbody tr th {\n",
              "        vertical-align: top;\n",
              "    }\n",
              "\n",
              "    .dataframe thead th {\n",
              "        text-align: right;\n",
              "    }\n",
              "</style>\n",
              "<table border=\"1\" class=\"dataframe\">\n",
              "  <thead>\n",
              "    <tr style=\"text-align: right;\">\n",
              "      <th></th>\n",
              "      <th>age</th>\n",
              "      <th>job</th>\n",
              "      <th>marital</th>\n",
              "      <th>education</th>\n",
              "      <th>default</th>\n",
              "      <th>balance</th>\n",
              "      <th>housing</th>\n",
              "      <th>loan</th>\n",
              "      <th>contact</th>\n",
              "      <th>day</th>\n",
              "      <th>month</th>\n",
              "      <th>duration</th>\n",
              "      <th>campaign</th>\n",
              "      <th>pdays</th>\n",
              "      <th>previous</th>\n",
              "      <th>poutcome</th>\n",
              "    </tr>\n",
              "  </thead>\n",
              "  <tbody>\n",
              "    <tr>\n",
              "      <th>42864</th>\n",
              "      <td>68</td>\n",
              "      <td>5</td>\n",
              "      <td>1</td>\n",
              "      <td>2</td>\n",
              "      <td>0</td>\n",
              "      <td>2812.0</td>\n",
              "      <td>0</td>\n",
              "      <td>0</td>\n",
              "      <td>0</td>\n",
              "      <td>3</td>\n",
              "      <td>3</td>\n",
              "      <td>279</td>\n",
              "      <td>2</td>\n",
              "      <td>181</td>\n",
              "      <td>1</td>\n",
              "      <td>0</td>\n",
              "    </tr>\n",
              "    <tr>\n",
              "      <th>29736</th>\n",
              "      <td>41</td>\n",
              "      <td>10</td>\n",
              "      <td>1</td>\n",
              "      <td>1</td>\n",
              "      <td>0</td>\n",
              "      <td>2423.0</td>\n",
              "      <td>1</td>\n",
              "      <td>0</td>\n",
              "      <td>0</td>\n",
              "      <td>4</td>\n",
              "      <td>3</td>\n",
              "      <td>101</td>\n",
              "      <td>1</td>\n",
              "      <td>-1</td>\n",
              "      <td>0</td>\n",
              "      <td>3</td>\n",
              "    </tr>\n",
              "    <tr>\n",
              "      <th>19403</th>\n",
              "      <td>53</td>\n",
              "      <td>9</td>\n",
              "      <td>1</td>\n",
              "      <td>1</td>\n",
              "      <td>0</td>\n",
              "      <td>1225.0</td>\n",
              "      <td>0</td>\n",
              "      <td>0</td>\n",
              "      <td>0</td>\n",
              "      <td>6</td>\n",
              "      <td>1</td>\n",
              "      <td>70</td>\n",
              "      <td>2</td>\n",
              "      <td>-1</td>\n",
              "      <td>0</td>\n",
              "      <td>3</td>\n",
              "    </tr>\n",
              "    <tr>\n",
              "      <th>12972</th>\n",
              "      <td>35</td>\n",
              "      <td>4</td>\n",
              "      <td>1</td>\n",
              "      <td>2</td>\n",
              "      <td>0</td>\n",
              "      <td>126.0</td>\n",
              "      <td>0</td>\n",
              "      <td>1</td>\n",
              "      <td>0</td>\n",
              "      <td>7</td>\n",
              "      <td>5</td>\n",
              "      <td>371</td>\n",
              "      <td>2</td>\n",
              "      <td>-1</td>\n",
              "      <td>0</td>\n",
              "      <td>3</td>\n",
              "    </tr>\n",
              "    <tr>\n",
              "      <th>41632</th>\n",
              "      <td>61</td>\n",
              "      <td>10</td>\n",
              "      <td>1</td>\n",
              "      <td>0</td>\n",
              "      <td>0</td>\n",
              "      <td>1.0</td>\n",
              "      <td>0</td>\n",
              "      <td>0</td>\n",
              "      <td>0</td>\n",
              "      <td>25</td>\n",
              "      <td>11</td>\n",
              "      <td>85</td>\n",
              "      <td>1</td>\n",
              "      <td>-1</td>\n",
              "      <td>0</td>\n",
              "      <td>3</td>\n",
              "    </tr>\n",
              "  </tbody>\n",
              "</table>\n",
              "</div>\n",
              "      <button class=\"colab-df-convert\" onclick=\"convertToInteractive('df-aa53af08-e513-4f39-a569-aec3bf7d16b1')\"\n",
              "              title=\"Convert this dataframe to an interactive table.\"\n",
              "              style=\"display:none;\">\n",
              "        \n",
              "  <svg xmlns=\"http://www.w3.org/2000/svg\" height=\"24px\"viewBox=\"0 0 24 24\"\n",
              "       width=\"24px\">\n",
              "    <path d=\"M0 0h24v24H0V0z\" fill=\"none\"/>\n",
              "    <path d=\"M18.56 5.44l.94 2.06.94-2.06 2.06-.94-2.06-.94-.94-2.06-.94 2.06-2.06.94zm-11 1L8.5 8.5l.94-2.06 2.06-.94-2.06-.94L8.5 2.5l-.94 2.06-2.06.94zm10 10l.94 2.06.94-2.06 2.06-.94-2.06-.94-.94-2.06-.94 2.06-2.06.94z\"/><path d=\"M17.41 7.96l-1.37-1.37c-.4-.4-.92-.59-1.43-.59-.52 0-1.04.2-1.43.59L10.3 9.45l-7.72 7.72c-.78.78-.78 2.05 0 2.83L4 21.41c.39.39.9.59 1.41.59.51 0 1.02-.2 1.41-.59l7.78-7.78 2.81-2.81c.8-.78.8-2.07 0-2.86zM5.41 20L4 18.59l7.72-7.72 1.47 1.35L5.41 20z\"/>\n",
              "  </svg>\n",
              "      </button>\n",
              "      \n",
              "  <style>\n",
              "    .colab-df-container {\n",
              "      display:flex;\n",
              "      flex-wrap:wrap;\n",
              "      gap: 12px;\n",
              "    }\n",
              "\n",
              "    .colab-df-convert {\n",
              "      background-color: #E8F0FE;\n",
              "      border: none;\n",
              "      border-radius: 50%;\n",
              "      cursor: pointer;\n",
              "      display: none;\n",
              "      fill: #1967D2;\n",
              "      height: 32px;\n",
              "      padding: 0 0 0 0;\n",
              "      width: 32px;\n",
              "    }\n",
              "\n",
              "    .colab-df-convert:hover {\n",
              "      background-color: #E2EBFA;\n",
              "      box-shadow: 0px 1px 2px rgba(60, 64, 67, 0.3), 0px 1px 3px 1px rgba(60, 64, 67, 0.15);\n",
              "      fill: #174EA6;\n",
              "    }\n",
              "\n",
              "    [theme=dark] .colab-df-convert {\n",
              "      background-color: #3B4455;\n",
              "      fill: #D2E3FC;\n",
              "    }\n",
              "\n",
              "    [theme=dark] .colab-df-convert:hover {\n",
              "      background-color: #434B5C;\n",
              "      box-shadow: 0px 1px 3px 1px rgba(0, 0, 0, 0.15);\n",
              "      filter: drop-shadow(0px 1px 2px rgba(0, 0, 0, 0.3));\n",
              "      fill: #FFFFFF;\n",
              "    }\n",
              "  </style>\n",
              "\n",
              "      <script>\n",
              "        const buttonEl =\n",
              "          document.querySelector('#df-aa53af08-e513-4f39-a569-aec3bf7d16b1 button.colab-df-convert');\n",
              "        buttonEl.style.display =\n",
              "          google.colab.kernel.accessAllowed ? 'block' : 'none';\n",
              "\n",
              "        async function convertToInteractive(key) {\n",
              "          const element = document.querySelector('#df-aa53af08-e513-4f39-a569-aec3bf7d16b1');\n",
              "          const dataTable =\n",
              "            await google.colab.kernel.invokeFunction('convertToInteractive',\n",
              "                                                     [key], {});\n",
              "          if (!dataTable) return;\n",
              "\n",
              "          const docLinkHtml = 'Like what you see? Visit the ' +\n",
              "            '<a target=\"_blank\" href=https://colab.research.google.com/notebooks/data_table.ipynb>data table notebook</a>'\n",
              "            + ' to learn more about interactive tables.';\n",
              "          element.innerHTML = '';\n",
              "          dataTable['output_type'] = 'display_data';\n",
              "          await google.colab.output.renderOutput(dataTable, element);\n",
              "          const docLink = document.createElement('div');\n",
              "          docLink.innerHTML = docLinkHtml;\n",
              "          element.appendChild(docLink);\n",
              "        }\n",
              "      </script>\n",
              "    </div>\n",
              "  </div>\n",
              "  "
            ]
          },
          "metadata": {},
          "execution_count": 20
        }
      ]
    },
    {
      "cell_type": "code",
      "metadata": {
        "id": "GpqxMbqEzWPk"
      },
      "source": [
        "from sklearn.preprocessing import StandardScaler\n",
        "X_train[numerical_columns]=StandardScaler().fit_transform(X_train[numerical_columns])\n",
        "X_test[numerical_columns]=StandardScaler().fit_transform(X_test[numerical_columns])"
      ],
      "execution_count": null,
      "outputs": []
    },
    {
      "cell_type": "code",
      "source": [
        "X_train.head(5)"
      ],
      "metadata": {
        "colab": {
          "base_uri": "https://localhost:8080/",
          "height": 206
        },
        "id": "8aKWgblR757o",
        "outputId": "abbd0b43-362e-4c27-c37e-3a0632303ace"
      },
      "execution_count": 21,
      "outputs": [
        {
          "output_type": "execute_result",
          "data": {
            "text/plain": [
              "       age  job  marital  education  default  balance  housing  loan  contact  \\\n",
              "42864   68    5        1          2        0   2812.0        0     0        0   \n",
              "29736   41   10        1          1        0   2423.0        1     0        0   \n",
              "19403   53    9        1          1        0   1225.0        0     0        0   \n",
              "12972   35    4        1          2        0    126.0        0     1        0   \n",
              "41632   61   10        1          0        0      1.0        0     0        0   \n",
              "\n",
              "       day  month  duration  campaign  pdays  previous  poutcome  \n",
              "42864    3      3       279         2    181         1         0  \n",
              "29736    4      3       101         1     -1         0         3  \n",
              "19403    6      1        70         2     -1         0         3  \n",
              "12972    7      5       371         2     -1         0         3  \n",
              "41632   25     11        85         1     -1         0         3  "
            ],
            "text/html": [
              "\n",
              "  <div id=\"df-2b0e5c38-3818-41f0-8c97-176c7edfdf93\">\n",
              "    <div class=\"colab-df-container\">\n",
              "      <div>\n",
              "<style scoped>\n",
              "    .dataframe tbody tr th:only-of-type {\n",
              "        vertical-align: middle;\n",
              "    }\n",
              "\n",
              "    .dataframe tbody tr th {\n",
              "        vertical-align: top;\n",
              "    }\n",
              "\n",
              "    .dataframe thead th {\n",
              "        text-align: right;\n",
              "    }\n",
              "</style>\n",
              "<table border=\"1\" class=\"dataframe\">\n",
              "  <thead>\n",
              "    <tr style=\"text-align: right;\">\n",
              "      <th></th>\n",
              "      <th>age</th>\n",
              "      <th>job</th>\n",
              "      <th>marital</th>\n",
              "      <th>education</th>\n",
              "      <th>default</th>\n",
              "      <th>balance</th>\n",
              "      <th>housing</th>\n",
              "      <th>loan</th>\n",
              "      <th>contact</th>\n",
              "      <th>day</th>\n",
              "      <th>month</th>\n",
              "      <th>duration</th>\n",
              "      <th>campaign</th>\n",
              "      <th>pdays</th>\n",
              "      <th>previous</th>\n",
              "      <th>poutcome</th>\n",
              "    </tr>\n",
              "  </thead>\n",
              "  <tbody>\n",
              "    <tr>\n",
              "      <th>42864</th>\n",
              "      <td>68</td>\n",
              "      <td>5</td>\n",
              "      <td>1</td>\n",
              "      <td>2</td>\n",
              "      <td>0</td>\n",
              "      <td>2812.0</td>\n",
              "      <td>0</td>\n",
              "      <td>0</td>\n",
              "      <td>0</td>\n",
              "      <td>3</td>\n",
              "      <td>3</td>\n",
              "      <td>279</td>\n",
              "      <td>2</td>\n",
              "      <td>181</td>\n",
              "      <td>1</td>\n",
              "      <td>0</td>\n",
              "    </tr>\n",
              "    <tr>\n",
              "      <th>29736</th>\n",
              "      <td>41</td>\n",
              "      <td>10</td>\n",
              "      <td>1</td>\n",
              "      <td>1</td>\n",
              "      <td>0</td>\n",
              "      <td>2423.0</td>\n",
              "      <td>1</td>\n",
              "      <td>0</td>\n",
              "      <td>0</td>\n",
              "      <td>4</td>\n",
              "      <td>3</td>\n",
              "      <td>101</td>\n",
              "      <td>1</td>\n",
              "      <td>-1</td>\n",
              "      <td>0</td>\n",
              "      <td>3</td>\n",
              "    </tr>\n",
              "    <tr>\n",
              "      <th>19403</th>\n",
              "      <td>53</td>\n",
              "      <td>9</td>\n",
              "      <td>1</td>\n",
              "      <td>1</td>\n",
              "      <td>0</td>\n",
              "      <td>1225.0</td>\n",
              "      <td>0</td>\n",
              "      <td>0</td>\n",
              "      <td>0</td>\n",
              "      <td>6</td>\n",
              "      <td>1</td>\n",
              "      <td>70</td>\n",
              "      <td>2</td>\n",
              "      <td>-1</td>\n",
              "      <td>0</td>\n",
              "      <td>3</td>\n",
              "    </tr>\n",
              "    <tr>\n",
              "      <th>12972</th>\n",
              "      <td>35</td>\n",
              "      <td>4</td>\n",
              "      <td>1</td>\n",
              "      <td>2</td>\n",
              "      <td>0</td>\n",
              "      <td>126.0</td>\n",
              "      <td>0</td>\n",
              "      <td>1</td>\n",
              "      <td>0</td>\n",
              "      <td>7</td>\n",
              "      <td>5</td>\n",
              "      <td>371</td>\n",
              "      <td>2</td>\n",
              "      <td>-1</td>\n",
              "      <td>0</td>\n",
              "      <td>3</td>\n",
              "    </tr>\n",
              "    <tr>\n",
              "      <th>41632</th>\n",
              "      <td>61</td>\n",
              "      <td>10</td>\n",
              "      <td>1</td>\n",
              "      <td>0</td>\n",
              "      <td>0</td>\n",
              "      <td>1.0</td>\n",
              "      <td>0</td>\n",
              "      <td>0</td>\n",
              "      <td>0</td>\n",
              "      <td>25</td>\n",
              "      <td>11</td>\n",
              "      <td>85</td>\n",
              "      <td>1</td>\n",
              "      <td>-1</td>\n",
              "      <td>0</td>\n",
              "      <td>3</td>\n",
              "    </tr>\n",
              "  </tbody>\n",
              "</table>\n",
              "</div>\n",
              "      <button class=\"colab-df-convert\" onclick=\"convertToInteractive('df-2b0e5c38-3818-41f0-8c97-176c7edfdf93')\"\n",
              "              title=\"Convert this dataframe to an interactive table.\"\n",
              "              style=\"display:none;\">\n",
              "        \n",
              "  <svg xmlns=\"http://www.w3.org/2000/svg\" height=\"24px\"viewBox=\"0 0 24 24\"\n",
              "       width=\"24px\">\n",
              "    <path d=\"M0 0h24v24H0V0z\" fill=\"none\"/>\n",
              "    <path d=\"M18.56 5.44l.94 2.06.94-2.06 2.06-.94-2.06-.94-.94-2.06-.94 2.06-2.06.94zm-11 1L8.5 8.5l.94-2.06 2.06-.94-2.06-.94L8.5 2.5l-.94 2.06-2.06.94zm10 10l.94 2.06.94-2.06 2.06-.94-2.06-.94-.94-2.06-.94 2.06-2.06.94z\"/><path d=\"M17.41 7.96l-1.37-1.37c-.4-.4-.92-.59-1.43-.59-.52 0-1.04.2-1.43.59L10.3 9.45l-7.72 7.72c-.78.78-.78 2.05 0 2.83L4 21.41c.39.39.9.59 1.41.59.51 0 1.02-.2 1.41-.59l7.78-7.78 2.81-2.81c.8-.78.8-2.07 0-2.86zM5.41 20L4 18.59l7.72-7.72 1.47 1.35L5.41 20z\"/>\n",
              "  </svg>\n",
              "      </button>\n",
              "      \n",
              "  <style>\n",
              "    .colab-df-container {\n",
              "      display:flex;\n",
              "      flex-wrap:wrap;\n",
              "      gap: 12px;\n",
              "    }\n",
              "\n",
              "    .colab-df-convert {\n",
              "      background-color: #E8F0FE;\n",
              "      border: none;\n",
              "      border-radius: 50%;\n",
              "      cursor: pointer;\n",
              "      display: none;\n",
              "      fill: #1967D2;\n",
              "      height: 32px;\n",
              "      padding: 0 0 0 0;\n",
              "      width: 32px;\n",
              "    }\n",
              "\n",
              "    .colab-df-convert:hover {\n",
              "      background-color: #E2EBFA;\n",
              "      box-shadow: 0px 1px 2px rgba(60, 64, 67, 0.3), 0px 1px 3px 1px rgba(60, 64, 67, 0.15);\n",
              "      fill: #174EA6;\n",
              "    }\n",
              "\n",
              "    [theme=dark] .colab-df-convert {\n",
              "      background-color: #3B4455;\n",
              "      fill: #D2E3FC;\n",
              "    }\n",
              "\n",
              "    [theme=dark] .colab-df-convert:hover {\n",
              "      background-color: #434B5C;\n",
              "      box-shadow: 0px 1px 3px 1px rgba(0, 0, 0, 0.15);\n",
              "      filter: drop-shadow(0px 1px 2px rgba(0, 0, 0, 0.3));\n",
              "      fill: #FFFFFF;\n",
              "    }\n",
              "  </style>\n",
              "\n",
              "      <script>\n",
              "        const buttonEl =\n",
              "          document.querySelector('#df-2b0e5c38-3818-41f0-8c97-176c7edfdf93 button.colab-df-convert');\n",
              "        buttonEl.style.display =\n",
              "          google.colab.kernel.accessAllowed ? 'block' : 'none';\n",
              "\n",
              "        async function convertToInteractive(key) {\n",
              "          const element = document.querySelector('#df-2b0e5c38-3818-41f0-8c97-176c7edfdf93');\n",
              "          const dataTable =\n",
              "            await google.colab.kernel.invokeFunction('convertToInteractive',\n",
              "                                                     [key], {});\n",
              "          if (!dataTable) return;\n",
              "\n",
              "          const docLinkHtml = 'Like what you see? Visit the ' +\n",
              "            '<a target=\"_blank\" href=https://colab.research.google.com/notebooks/data_table.ipynb>data table notebook</a>'\n",
              "            + ' to learn more about interactive tables.';\n",
              "          element.innerHTML = '';\n",
              "          dataTable['output_type'] = 'display_data';\n",
              "          await google.colab.output.renderOutput(dataTable, element);\n",
              "          const docLink = document.createElement('div');\n",
              "          docLink.innerHTML = docLinkHtml;\n",
              "          element.appendChild(docLink);\n",
              "        }\n",
              "      </script>\n",
              "    </div>\n",
              "  </div>\n",
              "  "
            ]
          },
          "metadata": {},
          "execution_count": 21
        }
      ]
    },
    {
      "cell_type": "markdown",
      "metadata": {
        "id": "rg-CP9XY-rHU"
      },
      "source": [
        "###Visualising the data distribution of numerical columns on train and test set"
      ]
    },
    {
      "cell_type": "code",
      "metadata": {
        "colab": {
          "base_uri": "https://localhost:8080/",
          "height": 1000
        },
        "id": "7WPrY4vytd4k",
        "outputId": "1219ed96-a8d4-498f-9f76-47a88239b925"
      },
      "source": [
        "import matplotlib.pyplot as plt\n",
        "import scipy\n",
        "import seaborn as sn\n",
        "fig, axes=plt.subplots(len(numerical_columns),2,figsize=(15,50))\n",
        "for i in range(len(numerical_columns)):\n",
        "    sns.histplot(data=X_train,x=numerical_columns[i],ax=axes[i,0],kde=True)\n",
        "    axes[i,0].set_title(\"Train \"+numerical_columns[i])\n",
        "    sns.histplot(data=X_test,x=numerical_columns[i],ax=axes[i,1],kde=True)\n",
        "    axes[i,1].set_title(\"Test \"+numerical_columns[i])\n",
        "plt.show()"
      ],
      "execution_count": 22,
      "outputs": [
        {
          "output_type": "display_data",
          "data": {
            "text/plain": [
              "<Figure size 1080x3600 with 14 Axes>"
            ],
            "image/png": "[encoded data removed]"
          },
          "metadata": {
            "needs_background": "light"
          }
        }
      ]
    },
    {
      "cell_type": "markdown",
      "metadata": {
        "id": "Ma93_aGG1FLQ"
      },
      "source": [
        "###Measuring skewness"
      ]
    },
    {
      "cell_type": "code",
      "metadata": {
        "colab": {
          "base_uri": "https://localhost:8080/"
        },
        "id": "bEmgumzezJRh",
        "outputId": "b7364e58-bf58-45de-c319-5560e7c91ff7"
      },
      "source": [
        "for i in numerical_columns:\n",
        "    print(f\"{i} column in train set skewness: {scipy.stats.skew(X_train[[i]])[0]}\")\n",
        "    print(f\"{i} column in test set skewness: {scipy.stats.skew(X_test[[i]])[0]}\")\n",
        "    print(\"\\n******************************************************************\")"
      ],
      "execution_count": 23,
      "outputs": [
        {
          "output_type": "stream",
          "name": "stdout",
          "text": [
            "duration column in train set skewness: 3.124166861644669\n",
            "duration column in test set skewness: 3.2943447915981694\n",
            "\n",
            "******************************************************************\n",
            "pdays column in train set skewness: 2.624700902346742\n",
            "pdays column in test set skewness: 2.536598292738852\n",
            "\n",
            "******************************************************************\n",
            "campaign column in train set skewness: 4.992884483680003\n",
            "campaign column in test set skewness: 3.7984814707819052\n",
            "\n",
            "******************************************************************\n",
            "age column in train set skewness: 0.6860582822813873\n",
            "age column in test set skewness: 0.6730295298099054\n",
            "\n",
            "******************************************************************\n",
            "day column in train set skewness: 0.0969203283709489\n",
            "day column in test set skewness: 0.05864767231070325\n",
            "\n",
            "******************************************************************\n",
            "previous column in train set skewness: 43.82379055134349\n",
            "previous column in test set skewness: 6.641543394929162\n",
            "\n",
            "******************************************************************\n",
            "balance column in train set skewness: 1.4562432524367235\n",
            "balance column in test set skewness: 1.3322390325843891\n",
            "\n",
            "******************************************************************\n"
          ]
        }
      ]
    },
    {
      "cell_type": "markdown",
      "metadata": {
        "id": "ue4Moj7uLyuY"
      },
      "source": [
        "###Non linear transformation on previous column to reduce skewness"
      ]
    },
    {
      "cell_type": "code",
      "metadata": {
        "id": "2uPzgyWvNFRw"
      },
      "source": [
        "X_train[\"previous\"]=pd.DataFrame(np.cos(X_train[\"previous\"]))\n",
        "X_test[\"previous\"]=pd.DataFrame(np.cos(X_test[\"previous\"]))"
      ],
      "execution_count": 24,
      "outputs": []
    },
    {
      "cell_type": "code",
      "metadata": {
        "colab": {
          "base_uri": "https://localhost:8080/"
        },
        "id": "1VFN97HILxsk",
        "outputId": "cd8af898-d0ac-4a96-c5d4-e2066ba31b19"
      },
      "source": [
        "for i in numerical_columns:\n",
        "    print(f\"{i} column in train set skewness: {scipy.stats.skew(X_train[[i]])[0]}\")\n",
        "    print(f\"{i} column in test set skewness: {scipy.stats.skew(X_test[[i]])[0]}\")\n",
        "    print(\"\\n******************************************************************\")"
      ],
      "execution_count": 25,
      "outputs": [
        {
          "output_type": "stream",
          "name": "stdout",
          "text": [
            "duration column in train set skewness: 3.124166861644669\n",
            "duration column in test set skewness: 3.2943447915981694\n",
            "\n",
            "******************************************************************\n",
            "pdays column in train set skewness: 2.624700902346742\n",
            "pdays column in test set skewness: 2.536598292738852\n",
            "\n",
            "******************************************************************\n",
            "campaign column in train set skewness: 4.992884483680003\n",
            "campaign column in test set skewness: 3.7984814707819052\n",
            "\n",
            "******************************************************************\n",
            "age column in train set skewness: 0.6860582822813873\n",
            "age column in test set skewness: 0.6730295298099054\n",
            "\n",
            "******************************************************************\n",
            "day column in train set skewness: 0.0969203283709489\n",
            "day column in test set skewness: 0.05864767231070325\n",
            "\n",
            "******************************************************************\n",
            "previous column in train set skewness: -2.579475169308948\n",
            "previous column in test set skewness: -2.4967058635729824\n",
            "\n",
            "******************************************************************\n",
            "balance column in train set skewness: 1.4562432524367235\n",
            "balance column in test set skewness: 1.3322390325843891\n",
            "\n",
            "******************************************************************\n"
          ]
        }
      ]
    },
    {
      "cell_type": "markdown",
      "metadata": {
        "id": "HzrRcg618HPl"
      },
      "source": [
        "###Inspecting improvements in model"
      ]
    },
    {
      "cell_type": "code",
      "metadata": {
        "colab": {
          "base_uri": "https://localhost:8080/"
        },
        "id": "UPiasp1eLbKz",
        "outputId": "d024969c-6397-4260-9c55-e81cc45dec62"
      },
      "source": [
        "from sklearn.neighbors import KNeighborsClassifier\n",
        "from sklearn.pipeline import Pipeline\n",
        "knn_clf = KNeighborsClassifier()\n",
        "knn_clf.fit(X_train, y_train)\n",
        "print(f\"Accuracy of train set: {np.round(knn_clf.score(X_train,y_train)*100,decimals=2)}\")\n",
        "print(f\"Accuracy of test set: {np.round(knn_clf.score(X_test,y_test)*100,decimals=2)}\")"
      ],
      "execution_count": 26,
      "outputs": [
        {
          "output_type": "stream",
          "name": "stdout",
          "text": [
            "Accuracy of train set: 91.28\n",
            "Accuracy of test set: 87.57\n"
          ]
        }
      ]
    },
    {
      "cell_type": "code",
      "metadata": {
        "colab": {
          "base_uri": "https://localhost:8080/"
        },
        "id": "Fx-5pWYPM_sl",
        "outputId": "3c09c9b8-b38d-42e2-c209-4a0b9b9c5917"
      },
      "source": [
        "from sklearn.ensemble import RandomForestClassifier\n",
        "rf_clf = RandomForestClassifier(random_state=0)\n",
        "rf_clf.fit(X_train, y_train)\n",
        "print(f\"Accuracy of train set: {np.round(rf_clf.score(X_train,y_train)*100,decimals=2)}\")\n",
        "print(f\"Accuracy of test set: {np.round(rf_clf.score(X_test,y_test)*100,decimals=2)}\")"
      ],
      "execution_count": 27,
      "outputs": [
        {
          "output_type": "stream",
          "name": "stdout",
          "text": [
            "Accuracy of train set: 100.0\n",
            "Accuracy of test set: 89.76\n"
          ]
        }
      ]
    },
    {
      "cell_type": "code",
      "metadata": {
        "colab": {
          "base_uri": "https://localhost:8080/"
        },
        "id": "O5tJRTSfLlDe",
        "outputId": "74e17e25-7deb-449a-e6d2-d13fd8730839"
      },
      "source": [
        "from sklearn.ensemble import RandomForestClassifier\n",
        "rf_clf = RandomForestClassifier(random_state=0)\n",
        "rf_clf.fit(X_train, y_train)\n",
        "print(f\"Accuracy of train set: {np.round(rf_clf.score(X_train,y_train)*100,decimals=2)}\")\n",
        "print(f\"Accuracy of test set: {np.round(rf_clf.score(X_test,y_test)*100,decimals=2)}\")"
      ],
      "execution_count": 28,
      "outputs": [
        {
          "output_type": "stream",
          "name": "stdout",
          "text": [
            "Accuracy of train set: 100.0\n",
            "Accuracy of test set: 89.76\n"
          ]
        }
      ]
    },
    {
      "cell_type": "markdown",
      "metadata": {
        "id": "yDQcCTUsAdyc"
      },
      "source": [
        "###Defining models"
      ]
    },
    {
      "cell_type": "code",
      "metadata": {
        "id": "iK8M8OS0AqZw"
      },
      "source": [
        "from sklearn.neighbors import KNeighborsClassifier\n",
        "from sklearn.ensemble import RandomForestClassifier,GradientBoostingClassifier,AdaBoostClassifier\n",
        "from sklearn.tree import DecisionTreeClassifier\n",
        "from sklearn.linear_model import LogisticRegression\n",
        "from sklearn.svm import SVC\n",
        "models_name={\n",
        "    \"svm_clf\":\"SVC\",\n",
        "    \"knn_clf\":\"KNeighborsClassifier\",\n",
        "    \"rf_clf\":\"RandomForestClassifier\",\n",
        "    \"ab_clf\":\"AdaBoostClassifier\",\n",
        "    \"gb_clf\":\"GradientBoostingClassifier\",\n",
        "    \"dt_clf\":\"DecisionTreeClassifier\",\n",
        "    \"lr_clf\":\"LogisticRegression\",\n",
        "    \n",
        "}\n",
        "\n",
        "models={\n",
        "    \n",
        "    \"knn_clf\":KNeighborsClassifier(n_jobs=-1),\n",
        "    \"rf_clf\":RandomForestClassifier(n_jobs=-1,random_state=1),\n",
        "    \"ab_clf\":AdaBoostClassifier(random_state=1),\n",
        "    \"gb_clf\":GradientBoostingClassifier(random_state=1),\n",
        "    \"dt_clf\":DecisionTreeClassifier(random_state=1),\n",
        "    \"lr_clf\":LogisticRegression(n_jobs=-1,random_state=1),\n",
        "    \"svm_clf\":SVC(random_state=1)\n",
        "    \n",
        "}\n",
        "model_params={\n",
        "    \"knn_clf\":[{\n",
        "        \"n_neighbors\":list(np.arange(3,16,2)),\n",
        "        \"p\":[1,2],\n",
        "    }],\n",
        "    \"rf_clf\":[{\n",
        "        \"n_estimators\":list(np.arange(100,701,100)),\n",
        "        \"max_features\":[\"auto\",\"log2\"]\n",
        "    }],\n",
        "    \"ab_clf\":[{\n",
        "        \"base_estimator\":[RandomForestClassifier(n_jobs=-1,random_state=1),\n",
        "                          DecisionTreeClassifier(random_state=1)],\n",
        "        \"n_estimators\":list(np.arange(100,701,100)),\n",
        "        \"learning_rate\":[0.1,0.01,0.001],    \n",
        "    }],\n",
        "    \"gb_clf\":[{\n",
        "        \"loss\":[\"deviance\", \"exponential\"],\n",
        "        \"learning_rate\":[0.1,0.01,0.001],\n",
        "        \"n_estimators\":[600],\n",
        "\n",
        "    }],\n",
        "    \"dt_clf\":[{\n",
        "        \"criterion\":['gini', 'entropy'],\n",
        "    }],\n",
        "    \"lr_clf\":[{\n",
        "        \"C\":[0.1,1,10],\n",
        "    }],\n",
        "    \"svm_clf\":[{\n",
        "        \"C\":[0.1,1,10],\n",
        "        \"kernel\":[\"rbf\",\"linear\"]}],\n",
        "}"
      ],
      "execution_count": 29,
      "outputs": []
    },
    {
      "cell_type": "code",
      "metadata": {
        "id": "rD_b3oiyVnZT"
      },
      "source": [
        "from sklearn.model_selection import GridSearchCV\n",
        "from sklearn.metrics import accuracy_score,make_scorer,confusion_matrix,plot_roc_curve\n",
        "metric=make_scorer(accuracy_score,greater_is_better=True)"
      ],
      "execution_count": 30,
      "outputs": []
    },
    {
      "cell_type": "code",
      "metadata": {
        "id": "BOOs4jIQAXzo"
      },
      "source": [
        "best_models=[]"
      ],
      "execution_count": 31,
      "outputs": []
    },
    {
      "cell_type": "markdown",
      "metadata": {
        "id": "DN181ZIzAW1N"
      },
      "source": [
        "###Hyper parameter tuning of each models"
      ]
    },
    {
      "cell_type": "code",
      "metadata": {
        "id": "QLmshxlbX-RB"
      },
      "source": [
        "for i in models.keys():\n",
        "    print(f\"****************{models_name[i]}****************\")\n",
        "    grid=GridSearchCV(models[i],model_params[i],scoring=metric,return_train_score=True)\n",
        "    grid.fit(X_train,y_train)\n",
        "    print(f\"Best parameters of {i} classifier: {grid.best_params_}\")\n",
        "    best_models.append(grid.best_estimator_)\n",
        "    print(f\"Train set accuracy:{np.round(grid.best_score_*100,decimals=2)} %\")\n",
        "    test_pred=grid.predict(X_test)\n",
        "    print(f\"Test set accuracy:{np.round(accuracy_score(y_true=y_test,y_pred=grid.predict(X_test))*100,decimals=2)} \")\n",
        "    confusion_mat=confusion_matrix(y_true=y_test,y_pred=grid.predict(X_test))\n",
        "    fig, ax = plt.subplots(1,2,figsize=(12,4))\n",
        "    sns.heatmap(confusion_mat,annot=True,fmt='.4g',ax=ax[0])\n",
        "    plot_roc_curve(grid.best_estimator_,X_test,y_test,ax=ax[1])\n",
        "    ax[0].set_title('Confusion Matrix')\n",
        "    ax[1].set_title('ROC AUC curve')\n",
        "    plt.show()"
      ],
      "execution_count": null,
      "outputs": []
    },
    {
      "cell_type": "markdown",
      "metadata": {
        "id": "w5vb9tZnLdDp"
      },
      "source": [
        "###Deep learning (ANN)"
      ]
    },
    {
      "cell_type": "code",
      "metadata": {
        "id": "pEaNjQnERCUb",
        "colab": {
          "base_uri": "https://localhost:8080/"
        },
        "outputId": "ddfd9388-48e3-41ec-a1ed-fd28844b038d"
      },
      "source": [
        "import torch\n",
        "from torch.utils.data import TensorDataset,DataLoader\n",
        "from torch import nn\n",
        "torch.manual_seed(0)"
      ],
      "execution_count": 34,
      "outputs": [
        {
          "output_type": "execute_result",
          "data": {
            "text/plain": [
              "<torch._C.Generator at 0x7f023a2b5c10>"
            ]
          },
          "metadata": {},
          "execution_count": 34
        }
      ]
    },
    {
      "cell_type": "markdown",
      "metadata": {
        "id": "_W7UiaQHLmt6"
      },
      "source": [
        "###Creating tensors"
      ]
    },
    {
      "cell_type": "code",
      "metadata": {
        "id": "EGiC9W-vAvLr"
      },
      "source": [
        "train_X=torch.from_numpy(X_train.copy().to_numpy())\n",
        "train_y=torch.from_numpy(y_train.copy().to_numpy()).float()\n",
        "test_X=torch.from_numpy(X_test.copy().to_numpy())\n",
        "test_y=torch.from_numpy(y_test.copy().to_numpy()).float()"
      ],
      "execution_count": 35,
      "outputs": []
    },
    {
      "cell_type": "markdown",
      "metadata": {
        "id": "CPgG1zg6Lr0y"
      },
      "source": [
        "###Defining dataset"
      ]
    },
    {
      "cell_type": "code",
      "metadata": {
        "id": "PS-FzqvvAZTJ"
      },
      "source": [
        "train_ds=TensorDataset(train_X,train_y)\n",
        "valid_ds=TensorDataset(test_X,test_y)"
      ],
      "execution_count": 36,
      "outputs": []
    },
    {
      "cell_type": "markdown",
      "metadata": {
        "id": "DG4chNUTLwAh"
      },
      "source": [
        "###Defining data loader"
      ]
    },
    {
      "cell_type": "code",
      "metadata": {
        "id": "r6o1j-62FVlI"
      },
      "source": [
        "train_dl=DataLoader(train_ds,batch_size=32,shuffle=True)\n",
        "val_dl=DataLoader(valid_ds,batch_size=32,shuffle=True)"
      ],
      "execution_count": 37,
      "outputs": []
    },
    {
      "cell_type": "markdown",
      "metadata": {
        "id": "LGnB36aMcl3c"
      },
      "source": [
        "###Defning Neural Network Model 4 layers (2 hiddden layers)"
      ]
    },
    {
      "cell_type": "code",
      "metadata": {
        "id": "w5ice2-ncrw6"
      },
      "source": [
        "import torch\n",
        "from torch import nn\n",
        "import sys\n",
        "class ANN:\n",
        "  def __init__(self,train_dl,val_dl,input,output):\n",
        "    torch.manual_seed(0)\n",
        "    self.model=nn.Sequential(\n",
        "                                                  nn.Linear(input,10),\n",
        "                                                  nn.ReLU(),\n",
        "                                                  nn.Linear(10,6),\n",
        "                                                  nn.ReLU(),\n",
        "                                                  nn.Linear(6,4),\n",
        "                                                  nn.ReLU(),\n",
        "                                                  nn.Linear(4,output),\n",
        "                                                ).cuda()\n",
        "                                            \n",
        "    self.model.double()      \n",
        "    self.valid_outs=None                                      \n",
        "    self.loss=torch.nn.CrossEntropyLoss()\n",
        "    self.train_dl,self.val_dl=train_dl,val_dl\n",
        "    self.track_train_loss,self.track_val_loss=[],[]\n",
        "    self.track_val_acc=[]\n",
        "  def get_val_pred(self):\n",
        "    return self.valid_outs.detach().cpu().numpy()\n",
        "  def loss_tracker(self):\n",
        "    import matplotlib.pyplot as plt\n",
        "    plt.plot(self.track_train_loss,'blue',label='Train Loss')\n",
        "    plt.plot(self.track_val_loss,'orange',label='Valid Loss')\n",
        "    plt.legend(loc=4)\n",
        "    plt.show()\n",
        "  def acc_tracker(self):\n",
        "    import matplotlib.pyplot as plt\n",
        "    plt.plot(self.track_val_acc,'orange',label='Valid Accuracy')\n",
        "    plt.legend(loc=4)\n",
        "    plt.show()\n",
        "  def eval(self,dl):\n",
        "    loss=torch.nn.CrossEntropyLoss()\n",
        "    model_pred=torch.tensor([])\n",
        "    model_loss=0\n",
        "    model_true=torch.tensor([])\n",
        "    for i,(xb,yb) in enumerate(dl):\n",
        "      yhat=self.model(xb.cuda())\n",
        "      _,pred=torch.max(yhat.cpu(),1)\n",
        "      model_pred=torch.cat((model_pred,pred.view(-1).cpu()),0)\n",
        "      model_true=torch.cat((model_true,yb.view(-1)),0)\n",
        "      ls=self.loss(yhat,yb.cuda().long())\n",
        "      model_loss+=ls.item()\n",
        "      out=('No.of batches passed in evaluating: '+str(i)+' *&* Progress Percentage: '+str(np.round(i*100/len(dl),decimals=2))+'%')\n",
        "      sys.stdout.write('\\r'+out)\n",
        "    self.valid_outs=model_pred\n",
        "    return model_true,model_pred,model_loss/len(dl)\n",
        "  def train(self,optim):\n",
        "    model_loss=0\n",
        "    for i,(xb,yb) in enumerate(train_dl):\n",
        "      optim.zero_grad()\n",
        "      yhat=self.model(xb.cuda())\n",
        "      _,pred=torch.max(yhat,1)\n",
        "      ls=self.loss(yhat,yb.cuda().long())\n",
        "      model_loss+=ls.item()\n",
        "      ls.backward()\n",
        "      optim.step()\n",
        "      out=('No.of batches passed in training: '+str(i)+' *&*  Progress Percentage: '+str(np.round(i*100/len(self.train_dl),decimals=2))+'%')\n",
        "      sys.stdout.write('\\r'+out)\n",
        "    return np.round(model_loss/len(self.train_dl),decimals=8)\n",
        "  def fit(self,epochs:int,optim,lr_rate=0.003):\n",
        "    print(\"{:<8s}{:<14s}{:<14s}{:<14s}\".format('Epoch','train_loss','val_loss','val_acc'))\n",
        "    print(\"{:<8s}{:<14s}{:<14s}{:<14s}\".format('-----','----------','--------','-------'))\n",
        "    for epoch in range(epochs):\n",
        "      train_ls=self.train(optim)\n",
        "      y,yhat,ls=self.eval(self.val_dl)\n",
        "      sys.stdout.write('\\r')\n",
        "      ls=np.round(ls,decimals=8)\n",
        "      acc=np.round(((y==yhat).sum().numpy())/len(y),decimals=8)\n",
        "      self.track_val_acc.append(acc)\n",
        "      self.track_val_loss.append(ls)\n",
        "      self.track_train_loss.append(train_ls)\n",
        "      print(\"{:<8s}{:<14s}{:<14s}{:<14s}\".format(str(epoch+1)+'/'+str(epochs),str(train_ls),str(ls),str(acc)))"
      ],
      "execution_count": 38,
      "outputs": []
    },
    {
      "cell_type": "code",
      "metadata": {
        "id": "0KFxvG1hFg1g"
      },
      "source": [
        "network=ANN(train_dl,val_dl,len(X_train.columns),2)"
      ],
      "execution_count": 39,
      "outputs": []
    },
    {
      "cell_type": "code",
      "metadata": {
        "colab": {
          "base_uri": "https://localhost:8080/"
        },
        "id": "gc_0mSvZFmWp",
        "outputId": "6c6af471-ebff-4d01-a065-1d63e2239961"
      },
      "source": [
        "network.fit(15,torch.optim.Adam(network.model.parameters()),lr_rate=0.005)"
      ],
      "execution_count": 40,
      "outputs": [
        {
          "output_type": "stream",
          "name": "stdout",
          "text": [
            "Epoch   train_loss    val_loss      val_acc       \n",
            "-----   ----------    --------      -------       \n",
            "1/15    0.36558643    0.29018077    0.88080495    \n",
            "2/15    0.28138563    0.28479004    0.88102609    \n",
            "3/15    0.27684384    0.27383697    0.88191066    \n",
            "4/15    0.27002761    0.27064435    0.88301636    \n",
            "5/15    0.26833606    0.27206735    0.88124724    \n",
            "6/15    0.26583139    0.27158895    0.88080495    \n",
            "7/15    0.2628928     0.26336617    0.88301636    \n",
            "8/15    0.26045231    0.26078388    0.88567006    \n",
            "9/15    0.25920444    0.26160758    0.88522778    \n",
            "10/15   0.25905369    0.28347562    0.88567006    \n",
            "11/15   0.25672459    0.28297236    0.88434321    \n",
            "12/15   0.25536604    0.26313188    0.88456435    \n",
            "13/15   0.25580941    0.25797618    0.88854489    \n",
            "14/15   0.25271399    0.25620085    0.8869969     \n",
            "15/15   0.25358904    0.25892357    0.88721805    \n"
          ]
        }
      ]
    },
    {
      "cell_type": "code",
      "metadata": {
        "id": "Rwkwkf19Le1o",
        "colab": {
          "base_uri": "https://localhost:8080/",
          "height": 265
        },
        "outputId": "34bd7094-4a32-4085-e3aa-d820a903fe54"
      },
      "source": [
        "network.loss_tracker()"
      ],
      "execution_count": 41,
      "outputs": [
        {
          "output_type": "display_data",
          "data": {
            "text/plain": [
              "<Figure size 432x288 with 1 Axes>"
            ],
            "image/png": "[encoded data removed]"
          },
          "metadata": {
            "needs_background": "light"
          }
        }
      ]
    },
    {
      "cell_type": "code",
      "metadata": {
        "id": "4h3H1CiOk7DP",
        "colab": {
          "base_uri": "https://localhost:8080/",
          "height": 265
        },
        "outputId": "2a8f2228-de3b-4763-b8ac-bf62685efd17"
      },
      "source": [
        "network.acc_tracker()"
      ],
      "execution_count": 42,
      "outputs": [
        {
          "output_type": "display_data",
          "data": {
            "text/plain": [
              "<Figure size 432x288 with 1 Axes>"
            ],
            "image/png": "[encoded data removed]"
          },
          "metadata": {
            "needs_background": "light"
          }
        }
      ]
    }
  ]
}